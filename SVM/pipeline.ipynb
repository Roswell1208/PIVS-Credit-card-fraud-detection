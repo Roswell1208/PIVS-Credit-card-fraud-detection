{
 "cells": [
  {
   "cell_type": "markdown",
   "id": "5ee1f9f4",
   "metadata": {},
   "source": [
    "# SVM - Credit Card Fraud Detection"
   ]
  },
  {
   "cell_type": "markdown",
   "id": "f790b05c",
   "metadata": {},
   "source": [
    "---\n",
    "\n",
    "## Dependencies"
   ]
  },
  {
   "cell_type": "code",
   "execution_count": 1,
   "id": "ee6a4cfb",
   "metadata": {},
   "outputs": [],
   "source": [
    "import pandas as pd\n",
    "import numpy as np\n",
    "from sklearn.preprocessing import StandardScaler\n",
    "from sklearn.model_selection import RandomizedSearchCV, StratifiedKFold\n",
    "from scipy.stats import loguniform\n",
    "from sklearn.svm import SVC\n",
    "from sklearn.metrics import classification_report, roc_auc_score, confusion_matrix\n",
    "import matplotlib.pyplot as plt\n",
    "import seaborn as sns\n",
    "import os\n",
    "import joblib"
   ]
  },
  {
   "cell_type": "markdown",
   "id": "28893976",
   "metadata": {},
   "source": [
    "---\n",
    "\n",
    "## Datasets preparation"
   ]
  },
  {
   "cell_type": "code",
   "execution_count": 2,
   "id": "57dbb3d1",
   "metadata": {},
   "outputs": [],
   "source": [
    "path = '../DataSet/'\n",
    "\n",
    "datasets = {\n",
    "    \"original\": {\n",
    "        \"X_train\": path + 'original-dataset/train/X.csv', \"y_train\": path + 'original-dataset/train/y.csv',\n",
    "        \"X_test\": path + 'original-dataset/test/X.csv', \"y_test\": path + 'original-dataset/test/y.csv'\n",
    "    },\n",
    "    \"undersampled\": {\n",
    "        \"X_train\": path + 'undersampled-dataset/train/X.csv', \"y_train\": path + 'undersampled-dataset/train/y.csv',\n",
    "        \"X_test\": path + 'undersampled-dataset/test/X.csv', \"y_test\": path + 'undersampled-dataset/test/y.csv'\n",
    "    },\n",
    "    \"oversampled\": {\n",
    "        \"X_train\": path + 'oversampled-dataset/train/X.csv', \"y_train\": path + 'oversampled-dataset/train/y.csv',\n",
    "        \"X_test\": path + 'oversampled-dataset/test/X.csv', \"y_test\": path + 'oversampled-dataset/test/y.csv'\n",
    "    }\n",
    "}"
   ]
  },
  {
   "cell_type": "markdown",
   "id": "a51f573e",
   "metadata": {},
   "source": [
    "---\n",
    "\n",
    "## Original dataset"
   ]
  },
  {
   "cell_type": "code",
   "execution_count": 3,
   "id": "f750858c",
   "metadata": {},
   "outputs": [],
   "source": [
    "# Training set\n",
    "X_train = pd.read_csv(datasets[\"original\"][\"X_train\"])\n",
    "y_train = pd.read_csv(datasets[\"original\"][\"y_train\"])\n",
    "\n",
    "# Test set\n",
    "X_test = pd.read_csv(datasets[\"original\"][\"X_test\"])\n",
    "y_test = pd.read_csv(datasets[\"original\"][\"y_test\"])"
   ]
  },
  {
   "cell_type": "markdown",
   "id": "619c06ef",
   "metadata": {},
   "source": [
    "### Scaling"
   ]
  },
  {
   "cell_type": "code",
   "execution_count": 4,
   "id": "a9385546",
   "metadata": {},
   "outputs": [],
   "source": [
    "scaler = StandardScaler()\n",
    "X_train = scaler.fit_transform(X_train)"
   ]
  },
  {
   "cell_type": "code",
   "execution_count": 5,
   "id": "93a1fe17",
   "metadata": {},
   "outputs": [
    {
     "data": {
      "text/plain": [
       "array([[-0.33974783, -1.95144063, -1.16681856, ..., -1.6211327 ,\n",
       "         0.96676   , -0.4486209 ],\n",
       "       [ 4.27773998,  1.24181171, -0.15922175, ...,  1.34827683,\n",
       "        -0.71311931,  0.33519183],\n",
       "       [-0.0533992 ,  0.05339701, -0.92214029, ...,  1.73038298,\n",
       "        -0.15212107,  0.26753092],\n",
       "       ...,\n",
       "       [-0.32837128, -0.31497174, -0.07400401, ..., -0.8272693 ,\n",
       "        -0.29672056, -0.59571272],\n",
       "       [-0.33974783, -0.14359433, -1.50291696, ...,  0.88219506,\n",
       "         1.2243654 ,  1.01984233],\n",
       "       [ 0.09364469, -0.38688453,  0.62962541, ..., -0.81609192,\n",
       "         0.0044092 ,  0.11724428]], shape=(199364, 30))"
      ]
     },
     "execution_count": 5,
     "metadata": {},
     "output_type": "execute_result"
    }
   ],
   "source": [
    "X_train"
   ]
  },
  {
   "cell_type": "markdown",
   "id": "fa83e333",
   "metadata": {},
   "source": [
    "### Hyperparam tuning with GridSearchCV"
   ]
  },
  {
   "cell_type": "code",
   "execution_count": 6,
   "id": "41520715",
   "metadata": {},
   "outputs": [
    {
     "name": "stdout",
     "output_type": "stream",
     "text": [
      "Loading existing grid search results...\n",
      "Best parameters: {'C': np.float64(21.368329072358772), 'gamma': 'auto', 'kernel': 'rbf'}\n",
      "Best score: 0.9490814806058475\n",
      "Best estimator: SVC(C=np.float64(21.368329072358772), gamma='auto', probability=True,\n",
      "    random_state=42)\n"
     ]
    }
   ],
   "source": [
    "if os.path.exists('grid_search_svm_original.pkl'):\n",
    "    print(\"Loading existing grid search results...\")\n",
    "    grid = joblib.load('grid_search_svm_original.pkl')\n",
    "\n",
    "else:\n",
    "    print(\"Performing grid search for SVM on original dataset...\")\n",
    "    param_grid = {\n",
    "        'C': loguniform(1e-2, 1e2),\n",
    "        'kernel': ['linear', 'rbf'],\n",
    "        'gamma': ['scale', 'auto']\n",
    "    }\n",
    "\n",
    "    cv = StratifiedKFold(n_splits=3, shuffle=True, random_state=42)\n",
    "\n",
    "    svm = SVC(probability=True, random_state=42)\n",
    "    grid = RandomizedSearchCV(estimator=svm, param_distributions=param_grid,\n",
    "                          n_iter=10, scoring='roc_auc', cv=cv,\n",
    "                          n_jobs=-1, verbose=2, random_state=42)\n",
    "    grid.fit(X_train, y_train)\n",
    "\n",
    "    joblib.dump(grid, 'grid_search_svm_original.pkl')\n",
    "\n",
    "best_params = grid.best_params_\n",
    "best_score = grid.best_score_\n",
    "best_estimator = grid.best_estimator_\n",
    "print(f\"Best parameters: {best_params}\")\n",
    "print(f\"Best score: {best_score}\")\n",
    "print(f\"Best estimator: {best_estimator}\")"
   ]
  },
  {
   "cell_type": "markdown",
   "id": "bfa03d01",
   "metadata": {},
   "source": [
    "### Evaluation on test set"
   ]
  },
  {
   "cell_type": "code",
   "execution_count": 7,
   "id": "4b4cd10b",
   "metadata": {},
   "outputs": [
    {
     "name": "stderr",
     "output_type": "stream",
     "text": [
      "c:\\Users\\hugop\\IA\\ESIEE-IT\\M1\\PIVS\\PIVS-Credit-card-fraud-detection\\venv\\Lib\\site-packages\\sklearn\\utils\\validation.py:2732: UserWarning: X has feature names, but SVC was fitted without feature names\n",
      "  warnings.warn(\n",
      "c:\\Users\\hugop\\IA\\ESIEE-IT\\M1\\PIVS\\PIVS-Credit-card-fraud-detection\\venv\\Lib\\site-packages\\sklearn\\utils\\validation.py:2732: UserWarning: X has feature names, but SVC was fitted without feature names\n",
      "  warnings.warn(\n"
     ]
    },
    {
     "name": "stdout",
     "output_type": "stream",
     "text": [
      "Test Classification Report:\n",
      "              precision    recall  f1-score   support\n",
      "\n",
      "           0       1.00      1.00      1.00     85307\n",
      "           1       0.86      0.32      0.47       136\n",
      "\n",
      "    accuracy                           1.00     85443\n",
      "   macro avg       0.93      0.66      0.74     85443\n",
      "weighted avg       1.00      1.00      1.00     85443\n",
      "\n",
      "Test ROC AUC Score: 0.96060120919668\n",
      "Test Confusion Matrix:\n",
      "[[85300     7]\n",
      " [   92    44]]\n"
     ]
    },
    {
     "data": {
      "image/png": "[encoded data removed]",
      "text/plain": [
       "<Figure size 640x480 with 2 Axes>"
      ]
     },
     "metadata": {},
     "output_type": "display_data"
    }
   ],
   "source": [
    "y_test_pred = best_estimator.predict(X_test)\n",
    "y_test_pred_proba = best_estimator.predict_proba(X_test)[:, 1]\n",
    "\n",
    "print(\"Test Classification Report:\")\n",
    "print(classification_report(y_test, y_test_pred))\n",
    "print(\"Test ROC AUC Score:\", roc_auc_score(y_test, y_test_pred_proba))\n",
    "print(\"Test Confusion Matrix:\")\n",
    "print(confusion_matrix(y_test, y_test_pred))\n",
    "sns.heatmap(confusion_matrix(y_test, y_test_pred), annot=True, fmt='d', cmap='Blues')\n",
    "plt.title('Test Confusion Matrix')\n",
    "plt.xlabel('Predicted')\n",
    "plt.ylabel('True')\n",
    "plt.show()"
   ]
  },
  {
   "cell_type": "markdown",
   "id": "2662e259",
   "metadata": {},
   "source": [
    "---\n",
    "\n",
    "## Undersampled dataset"
   ]
  },
  {
   "cell_type": "code",
   "execution_count": 8,
   "id": "bf17a822",
   "metadata": {},
   "outputs": [],
   "source": [
    "# Training set\n",
    "X_train = pd.read_csv(datasets[\"undersampled\"][\"X_train\"])\n",
    "y_train = pd.read_csv(datasets[\"undersampled\"][\"y_train\"])\n",
    "\n",
    "# Test set\n",
    "X_test = pd.read_csv(datasets[\"undersampled\"][\"X_test\"])\n",
    "y_test = pd.read_csv(datasets[\"undersampled\"][\"y_test\"])\n",
    "\n",
    "# Original test set\n",
    "X_test_ori = pd.read_csv(datasets[\"original\"][\"X_test\"])\n",
    "y_test_ori = pd.read_csv(datasets[\"original\"][\"y_test\"])"
   ]
  },
  {
   "cell_type": "markdown",
   "id": "34b8dfc1",
   "metadata": {},
   "source": [
    "### Hyperparam tuning with GridSearchCV"
   ]
  },
  {
   "cell_type": "code",
   "execution_count": 9,
   "id": "ab433d1d",
   "metadata": {},
   "outputs": [
    {
     "name": "stdout",
     "output_type": "stream",
     "text": [
      "Loading existing grid search results...\n",
      "Best parameters: {'C': np.float64(0.017073967431528128), 'gamma': 'auto', 'kernel': 'linear'}\n",
      "Best score: 0.9817573669305698\n",
      "Best estimator: SVC(C=np.float64(0.017073967431528128), gamma='auto', kernel='linear',\n",
      "    probability=True, random_state=42)\n"
     ]
    }
   ],
   "source": [
    "if os.path.exists('grid_search_svm_undersampled.pkl'):\n",
    "    print(\"Loading existing grid search results...\")\n",
    "    grid = joblib.load('grid_search_svm_undersampled.pkl')\n",
    "\n",
    "else:\n",
    "    print(\"Performing grid search for undersampled dataset...\")\n",
    "    param_grid = {\n",
    "        'C': loguniform(1e-2, 1e2),\n",
    "        'kernel': ['linear', 'rbf'],\n",
    "        'gamma': ['scale', 'auto']\n",
    "    }\n",
    "\n",
    "    cv = StratifiedKFold(n_splits=3, shuffle=True, random_state=42)\n",
    "\n",
    "    svm = SVC(probability=True, random_state=42)\n",
    "    grid = RandomizedSearchCV(estimator=svm, param_distributions=param_grid,\n",
    "                          n_iter=10, scoring='roc_auc', cv=cv,\n",
    "                          n_jobs=-1, verbose=2, random_state=42)\n",
    "    grid.fit(X_train, y_train)\n",
    "\n",
    "    joblib.dump(grid, 'grid_search_svm_undersampled.pkl')\n",
    "\n",
    "best_params = grid.best_params_\n",
    "best_score = grid.best_score_\n",
    "best_estimator = grid.best_estimator_\n",
    "print(f\"Best parameters: {best_params}\")\n",
    "print(f\"Best score: {best_score}\")\n",
    "print(f\"Best estimator: {best_estimator}\")"
   ]
  },
  {
   "cell_type": "markdown",
   "id": "7b4b81dc",
   "metadata": {},
   "source": [
    "### Evaluation on undersampled test set"
   ]
  },
  {
   "cell_type": "code",
   "execution_count": 10,
   "id": "11ac6863",
   "metadata": {},
   "outputs": [
    {
     "name": "stdout",
     "output_type": "stream",
     "text": [
      "Test Classification Report:\n",
      "              precision    recall  f1-score   support\n",
      "\n",
      "           0       0.91      0.99      0.95       150\n",
      "           1       0.99      0.90      0.94       146\n",
      "\n",
      "    accuracy                           0.95       296\n",
      "   macro avg       0.95      0.95      0.95       296\n",
      "weighted avg       0.95      0.95      0.95       296\n",
      "\n",
      "Test ROC AUC Score: 0.9787671232876711\n",
      "Test Confusion Matrix:\n",
      "[[148   2]\n",
      " [ 14 132]]\n"
     ]
    },
    {
     "data": {
      "image/png": "[encoded data removed]",
      "text/plain": [
       "<Figure size 640x480 with 2 Axes>"
      ]
     },
     "metadata": {},
     "output_type": "display_data"
    }
   ],
   "source": [
    "y_test_pred = best_estimator.predict(X_test)\n",
    "y_test_pred_proba = best_estimator.predict_proba(X_test)[:, 1]\n",
    "\n",
    "print(\"Test Classification Report:\")\n",
    "print(classification_report(y_test, y_test_pred))\n",
    "print(\"Test ROC AUC Score:\", roc_auc_score(y_test, y_test_pred_proba))\n",
    "print(\"Test Confusion Matrix:\")\n",
    "print(confusion_matrix(y_test, y_test_pred))\n",
    "sns.heatmap(confusion_matrix(y_test, y_test_pred), annot=True, fmt='d', cmap='Blues')\n",
    "plt.title('Test Confusion Matrix')\n",
    "plt.xlabel('Predicted')\n",
    "plt.ylabel('True')\n",
    "plt.show()"
   ]
  },
  {
   "cell_type": "markdown",
   "id": "d6ff79d6",
   "metadata": {},
   "source": [
    "### Evaluation on original test set"
   ]
  },
  {
   "cell_type": "code",
   "execution_count": 11,
   "id": "e173f5a5",
   "metadata": {},
   "outputs": [
    {
     "name": "stdout",
     "output_type": "stream",
     "text": [
      "Test Classification Report:\n",
      "              precision    recall  f1-score   support\n",
      "\n",
      "           0       1.00      0.97      0.99     85307\n",
      "           1       0.05      0.93      0.10       136\n",
      "\n",
      "    accuracy                           0.97     85443\n",
      "   macro avg       0.53      0.95      0.54     85443\n",
      "weighted avg       1.00      0.97      0.98     85443\n",
      "\n",
      "Test ROC AUC Score: 0.9915316238443986\n",
      "Test Confusion Matrix:\n",
      "[[83026  2281]\n",
      " [   10   126]]\n"
     ]
    },
    {
     "data": {
      "image/png": "[encoded data removed]",
      "text/plain": [
       "<Figure size 640x480 with 2 Axes>"
      ]
     },
     "metadata": {},
     "output_type": "display_data"
    }
   ],
   "source": [
    "y_test_pred = best_estimator.predict(X_test_ori)\n",
    "y_test_pred_proba = best_estimator.predict_proba(X_test_ori)[:, 1]\n",
    "\n",
    "print(\"Test Classification Report:\")\n",
    "print(classification_report(y_test_ori, y_test_pred))\n",
    "print(\"Test ROC AUC Score:\", roc_auc_score(y_test_ori, y_test_pred_proba))\n",
    "print(\"Test Confusion Matrix:\")\n",
    "print(confusion_matrix(y_test_ori, y_test_pred))\n",
    "sns.heatmap(confusion_matrix(y_test_ori, y_test_pred), annot=True, fmt='d', cmap='Blues')\n",
    "plt.title('Test Confusion Matrix')\n",
    "plt.xlabel('Predicted')\n",
    "plt.ylabel('True')\n",
    "plt.show()"
   ]
  },
  {
   "cell_type": "markdown",
   "id": "077e3b61",
   "metadata": {},
   "source": [
    "---\n",
    "\n",
    "## Oversampled dataset"
   ]
  },
  {
   "cell_type": "code",
   "execution_count": 12,
   "id": "33d2fa4a",
   "metadata": {},
   "outputs": [],
   "source": [
    "# Training set\n",
    "X_train = pd.read_csv(datasets[\"oversampled\"][\"X_train\"])\n",
    "y_train = pd.read_csv(datasets[\"oversampled\"][\"y_train\"])\n",
    "\n",
    "# Test set\n",
    "X_test = pd.read_csv(datasets[\"oversampled\"][\"X_test\"])\n",
    "y_test = pd.read_csv(datasets[\"oversampled\"][\"y_test\"])"
   ]
  },
  {
   "cell_type": "markdown",
   "id": "ed7fc720",
   "metadata": {},
   "source": [
    "### Scaling"
   ]
  },
  {
   "cell_type": "code",
   "execution_count": 13,
   "id": "936105a7",
   "metadata": {},
   "outputs": [],
   "source": [
    "scaler = StandardScaler()\n",
    "X_train = scaler.fit_transform(X_train)"
   ]
  },
  {
   "cell_type": "code",
   "execution_count": 14,
   "id": "de86d98f",
   "metadata": {},
   "outputs": [
    {
     "data": {
      "text/plain": [
       "array([[-0.40252193, -1.78801326, -0.03953088, ..., -1.82911531,\n",
       "         0.31612824, -0.46003976],\n",
       "       [ 4.65847268,  1.43853484,  0.34440412, ...,  1.36234378,\n",
       "        -0.40930151,  0.14909356],\n",
       "       [-0.08866969,  0.23772864,  0.0537014 , ...,  1.77302346,\n",
       "        -0.16704315,  0.09651146],\n",
       "       ...,\n",
       "       [-0.40044289, -1.06346102,  0.61912474, ..., -0.38503739,\n",
       "        -0.0773115 , -0.0843506 ],\n",
       "       [ 0.0650186 ,  1.04677553,  0.76605044, ..., -0.36974985,\n",
       "        -0.12129076, -0.09511358],\n",
       "       [-0.40252193, -1.4217068 , -2.36863582, ...,  1.41343418,\n",
       "         2.39361909, -3.09314089]], shape=(398016, 30))"
      ]
     },
     "execution_count": 14,
     "metadata": {},
     "output_type": "execute_result"
    }
   ],
   "source": [
    "X_train"
   ]
  },
  {
   "cell_type": "markdown",
   "id": "303c8807",
   "metadata": {},
   "source": [
    "### SVM training\n",
    "\n",
    "> **_NOTE:_**  Since GridSearch and SVM training on the oversampled dataset are very heavy and therefore very long, we decided to use the hyperparameters found on the original dataset for training on the oversampled dataset."
   ]
  },
  {
   "cell_type": "code",
   "execution_count": null,
   "id": "126bb81f",
   "metadata": {},
   "outputs": [
    {
     "name": "stdout",
     "output_type": "stream",
     "text": [
      "Loading existing trained SVM model...\n",
      "Model ready to use.\n"
     ]
    }
   ],
   "source": [
    "model_path = 'svm_model_oversampled.pkl'\n",
    "\n",
    "if os.path.exists(model_path):\n",
    "    print(\"Loading existing trained SVM model...\")\n",
    "    clf = joblib.load(model_path)\n",
    "else:\n",
    "    print(\"Training SVM model with fixed hyperparameters on oversampled dataset...\")\n",
    "\n",
    "    clf = SVC(\n",
    "        C=21.368329072358772,\n",
    "        gamma='auto',\n",
    "        kernel='rbf',\n",
    "        probability=True,\n",
    "        random_state=42\n",
    "    )\n",
    "\n",
    "    clf.fit(X_train, y_train)\n",
    "\n",
    "    joblib.dump(clf, model_path)\n",
    "\n",
    "print(\"Model ready to use.\")"
   ]
  },
  {
   "cell_type": "markdown",
   "id": "1f6ac9ad",
   "metadata": {},
   "source": [
    "### Evaluation on test set"
   ]
  },
  {
   "cell_type": "code",
   "execution_count": 16,
   "id": "87e8fe60",
   "metadata": {},
   "outputs": [
    {
     "name": "stderr",
     "output_type": "stream",
     "text": [
      "c:\\Users\\hugop\\IA\\ESIEE-IT\\M1\\PIVS\\PIVS-Credit-card-fraud-detection\\venv\\Lib\\site-packages\\sklearn\\utils\\validation.py:2732: UserWarning: X has feature names, but SVC was fitted without feature names\n",
      "  warnings.warn(\n",
      "c:\\Users\\hugop\\IA\\ESIEE-IT\\M1\\PIVS\\PIVS-Credit-card-fraud-detection\\venv\\Lib\\site-packages\\sklearn\\utils\\validation.py:2732: UserWarning: X has feature names, but SVC was fitted without feature names\n",
      "  warnings.warn(\n"
     ]
    },
    {
     "name": "stdout",
     "output_type": "stream",
     "text": [
      "Test Classification Report:\n",
      "              precision    recall  f1-score   support\n",
      "\n",
      "           0       1.00      0.93      0.96     85307\n",
      "           1       0.00      0.02      0.00       136\n",
      "\n",
      "    accuracy                           0.93     85443\n",
      "   macro avg       0.50      0.48      0.48     85443\n",
      "weighted avg       1.00      0.93      0.96     85443\n",
      "\n",
      "Test ROC AUC Score: 0.46833952320304734\n",
      "Test Confusion Matrix:\n",
      "[[79617  5690]\n",
      " [  133     3]]\n"
     ]
    },
    {
     "data": {
      "image/png": "[encoded data removed]",
      "text/plain": [
       "<Figure size 640x480 with 2 Axes>"
      ]
     },
     "metadata": {},
     "output_type": "display_data"
    }
   ],
   "source": [
    "# Prédictions\n",
    "y_test_pred = clf.predict(X_test)\n",
    "y_test_pred_proba = clf.predict_proba(X_test)[:, 1]\n",
    "\n",
    "# Évaluation\n",
    "print(\"Test Classification Report:\")\n",
    "print(classification_report(y_test, y_test_pred))\n",
    "\n",
    "print(\"Test ROC AUC Score:\", roc_auc_score(y_test, y_test_pred_proba))\n",
    "\n",
    "print(\"Test Confusion Matrix:\")\n",
    "conf_matrix = confusion_matrix(y_test, y_test_pred)\n",
    "print(conf_matrix)\n",
    "\n",
    "# Heatmap\n",
    "sns.heatmap(conf_matrix, annot=True, fmt='d', cmap='Blues')\n",
    "plt.title('Test Confusion Matrix')\n",
    "plt.xlabel('Predicted')\n",
    "plt.ylabel('True')\n",
    "plt.show()"
   ]
  },
  {
   "cell_type": "markdown",
   "id": "6a79ecb9",
   "metadata": {},
   "source": [
    "---\n",
    "\n",
    "## SVM - Results comparison"
   ]
  },
  {
   "cell_type": "markdown",
   "id": "0ee371c3",
   "metadata": {},
   "source": [
    "| Dataset         | Best Parameters                                              | F1-Score (Class 1) | Recall (Class 1) | Precision (Class 1) | ROC AUC | Confusion Matrix                 | Observations                                                                                   |\n",
    "|-----------------|--------------------------------------------------------------|---------------------|------------------|----------------------|---------|----------------------------------|------------------------------------------------------------------------------------------------|\n",
    "| **Original**     | `c=21.37`, `gamma='auto'`, `kernel='rbf'` | 0.47                | 0.32             | 0.86                 | 0.961   | TN=85300, FP=7, FN=92, TP=44   | High precision but very low recall, indicating the model misses many fraud cases.   |\n",
    "| **Undersampled** | `c=0.02`, `gamma='auto'`, `kernel='linear'` | 0.10                | 0.93             | 0.05                 | 0.991   | TN=83026, FP=2281, FN=10, TP=126       | Excellent recall but extremely poor precision, leading to a high number of false positives.                |\n",
    "| **Oversampled**  | `c=21.37`, `gamma='auto'`, `kernel='rbf'` | 0.00                | 0.02             | 0.00                 | 0.468   | TN=79617, FP=5690, FN=133, TP=3  | Model fails almost completely, with near-zero recall and precision.         |\n"
   ]
  },
  {
   "cell_type": "markdown",
   "id": "15321555",
   "metadata": {},
   "source": [
    "**Global observation:**\n",
    "\n",
    "SVM struggles significantly with class imbalance. It either overpredicts the minority class with poor precision or underdetects it with low recall. Performance is especially unstable on oversampled data, making it unreliable for fraud detection in this setup."
   ]
  }
 ],
 "metadata": {
  "kernelspec": {
   "display_name": "venv",
   "language": "python",
   "name": "python3"
  },
  "language_info": {
   "codemirror_mode": {
    "name": "ipython",
    "version": 3
   },
   "file_extension": ".py",
   "mimetype": "text/x-python",
   "name": "python",
   "nbconvert_exporter": "python",
   "pygments_lexer": "ipython3",
   "version": "3.11.4"
  }
 },
 "nbformat": 4,
 "nbformat_minor": 5
}
