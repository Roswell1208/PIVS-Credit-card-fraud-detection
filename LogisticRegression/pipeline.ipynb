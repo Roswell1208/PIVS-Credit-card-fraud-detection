{
 "cells": [
  {
   "cell_type": "markdown",
   "id": "f6a7bbb0",
   "metadata": {},
   "source": [
    "# Logistic Regression - Credit Card Fraud Detection"
   ]
  },
  {
   "cell_type": "markdown",
   "id": "cc5c368d",
   "metadata": {},
   "source": [
    "---\n",
    "\n",
    "## Dependencies"
   ]
  },
  {
   "cell_type": "code",
   "execution_count": 1,
   "id": "1f4f21bd",
   "metadata": {},
   "outputs": [],
   "source": [
    "import pandas as pd\n",
    "from sklearn.model_selection import GridSearchCV, StratifiedKFold\n",
    "from sklearn.linear_model import LogisticRegression\n",
    "from sklearn.metrics import classification_report, roc_auc_score, confusion_matrix\n",
    "import matplotlib.pyplot as plt\n",
    "import seaborn as sns\n",
    "from sklearn.preprocessing import StandardScaler\n",
    "import os\n",
    "import joblib"
   ]
  },
  {
   "cell_type": "markdown",
   "id": "3b2616ee",
   "metadata": {},
   "source": [
    "---\n",
    "\n",
    "## Datasets preparation"
   ]
  },
  {
   "cell_type": "code",
   "execution_count": null,
   "id": "9ceb84aa",
   "metadata": {},
   "outputs": [],
   "source": [
    "path = '../DataSet/'\n",
    "\n",
    "datasets = {\n",
    "    \"original\": {\n",
    "        \"X_train\": path + 'original-dataset/train/X.csv', \"y_train\": path + 'original-dataset/train/y.csv',\n",
    "        \"X_test\": path + 'original-dataset/test/X.csv', \"y_test\": path + 'original-dataset/test/y.csv'\n",
    "    },\n",
    "    \"undersampled\": {\n",
    "        \"X_train\": path + 'undersampled-dataset/train/X.csv', \"y_train\": path + 'undersampled-dataset/train/y.csv',\n",
    "        \"X_test\": path + 'undersampled-dataset/test/X.csv', \"y_test\": path + 'undersampled-dataset/test/y.csv'\n",
    "    },\n",
    "    \"oversampled\": {\n",
    "        \"X_train\": path + 'oversampled-dataset/train/X.csv', \"y_train\": path + 'oversampled-dataset/train/y.csv',\n",
    "        \"X_test\": path + 'oversampled-dataset/test/X.csv', \"y_test\": path + 'oversampled-dataset/test/y.csv'\n",
    "    }\n",
    "}"
   ]
  },
  {
   "cell_type": "markdown",
   "id": "7bec0d85",
   "metadata": {},
   "source": [
    "---\n",
    "\n",
    "## Original dataset"
   ]
  },
  {
   "cell_type": "code",
   "execution_count": 3,
   "id": "749f0447",
   "metadata": {},
   "outputs": [],
   "source": [
    "# Training set\n",
    "X_train = pd.read_csv(datasets[\"original\"][\"X_train\"])\n",
    "y_train = pd.read_csv(datasets[\"original\"][\"y_train\"])\n",
    "\n",
    "# Test set\n",
    "X_test = pd.read_csv(datasets[\"original\"][\"X_test\"])\n",
    "y_test = pd.read_csv(datasets[\"original\"][\"y_test\"])"
   ]
  },
  {
   "cell_type": "markdown",
   "id": "e9082328",
   "metadata": {},
   "source": [
    "### Scaling"
   ]
  },
  {
   "cell_type": "code",
   "execution_count": 4,
   "id": "bf3aa9ee",
   "metadata": {},
   "outputs": [],
   "source": [
    "scaler = StandardScaler()\n",
    "X_train = scaler.fit_transform(X_train)"
   ]
  },
  {
   "cell_type": "code",
   "execution_count": 5,
   "id": "2ce815e4",
   "metadata": {},
   "outputs": [
    {
     "data": {
      "text/plain": [
       "array([[-0.33974783, -1.95144063, -1.16681856, ..., -1.6211327 ,\n",
       "         0.96676   , -0.4486209 ],\n",
       "       [ 4.27773998,  1.24181171, -0.15922175, ...,  1.34827683,\n",
       "        -0.71311931,  0.33519183],\n",
       "       [-0.0533992 ,  0.05339701, -0.92214029, ...,  1.73038298,\n",
       "        -0.15212107,  0.26753092],\n",
       "       ...,\n",
       "       [-0.32837128, -0.31497174, -0.07400401, ..., -0.8272693 ,\n",
       "        -0.29672056, -0.59571272],\n",
       "       [-0.33974783, -0.14359433, -1.50291696, ...,  0.88219506,\n",
       "         1.2243654 ,  1.01984233],\n",
       "       [ 0.09364469, -0.38688453,  0.62962541, ..., -0.81609192,\n",
       "         0.0044092 ,  0.11724428]], shape=(199364, 30))"
      ]
     },
     "execution_count": 5,
     "metadata": {},
     "output_type": "execute_result"
    }
   ],
   "source": [
    "X_train"
   ]
  },
  {
   "cell_type": "markdown",
   "id": "f7a6ac53",
   "metadata": {},
   "source": [
    "### Hyperparam tuning with GridSearchCV"
   ]
  },
  {
   "cell_type": "code",
   "execution_count": 6,
   "id": "b53b43dc",
   "metadata": {},
   "outputs": [
    {
     "name": "stdout",
     "output_type": "stream",
     "text": [
      "Performing grid search for Logistic Regression on original dataset...\n",
      "Fitting 5 folds for each of 6 candidates, totalling 30 fits\n"
     ]
    },
    {
     "name": "stderr",
     "output_type": "stream",
     "text": [
      "c:\\Users\\hugop\\IA\\ESIEE-IT\\M1\\PIVS\\PIVS\\venv\\Lib\\site-packages\\sklearn\\utils\\validation.py:1408: DataConversionWarning: A column-vector y was passed when a 1d array was expected. Please change the shape of y to (n_samples, ), for example using ravel().\n",
      "  y = column_or_1d(y, warn=True)\n"
     ]
    },
    {
     "name": "stdout",
     "output_type": "stream",
     "text": [
      "Best parameters: {'C': 0.1, 'penalty': 'l2', 'solver': 'liblinear'}\n",
      "Best score: 0.9785758217531182\n",
      "Best estimator: LogisticRegression(C=0.1, max_iter=1000, random_state=42, solver='liblinear')\n"
     ]
    }
   ],
   "source": [
    "if os.path.exists('grid_search_lr_original.pkl'):\n",
    "    print(\"Loading existing grid search results...\")\n",
    "    grid = joblib.load('grid_search_lr_original.pkl')\n",
    "\n",
    "else:\n",
    "    print(\"Performing grid search for Logistic Regression on original dataset...\")\n",
    "    param_grid = {\n",
    "        'C': [0.1, 1, 10],\n",
    "        'penalty': ['l2'],\n",
    "        'solver': ['lbfgs', 'liblinear']\n",
    "    }\n",
    "\n",
    "    cv = StratifiedKFold(n_splits=5, shuffle=True, random_state=42)\n",
    "\n",
    "    lr = LogisticRegression(max_iter=1000, random_state=42)\n",
    "    grid = GridSearchCV(estimator=lr, param_grid=param_grid, cv=cv, scoring='roc_auc', n_jobs=-1, verbose=1)\n",
    "    grid.fit(X_train, y_train)\n",
    "\n",
    "    joblib.dump(grid, 'grid_search_lr_original.pkl')\n",
    "\n",
    "best_params = grid.best_params_\n",
    "best_score = grid.best_score_\n",
    "best_estimator = grid.best_estimator_\n",
    "print(f\"Best parameters: {best_params}\")\n",
    "print(f\"Best score: {best_score}\")\n",
    "print(f\"Best estimator: {best_estimator}\")"
   ]
  },
  {
   "cell_type": "markdown",
   "id": "b098bdb4",
   "metadata": {},
   "source": [
    "### Evaluation on test set"
   ]
  },
  {
   "cell_type": "code",
   "execution_count": 7,
   "id": "048d0653",
   "metadata": {},
   "outputs": [
    {
     "name": "stdout",
     "output_type": "stream",
     "text": [
      "Test Classification Report:\n"
     ]
    },
    {
     "name": "stderr",
     "output_type": "stream",
     "text": [
      "c:\\Users\\hugop\\IA\\ESIEE-IT\\M1\\PIVS\\PIVS\\venv\\Lib\\site-packages\\sklearn\\utils\\validation.py:2732: UserWarning: X has feature names, but LogisticRegression was fitted without feature names\n",
      "  warnings.warn(\n",
      "c:\\Users\\hugop\\IA\\ESIEE-IT\\M1\\PIVS\\PIVS\\venv\\Lib\\site-packages\\sklearn\\utils\\validation.py:2732: UserWarning: X has feature names, but LogisticRegression was fitted without feature names\n",
      "  warnings.warn(\n"
     ]
    },
    {
     "name": "stdout",
     "output_type": "stream",
     "text": [
      "              precision    recall  f1-score   support\n",
      "\n",
      "           0       1.00      1.00      1.00     85307\n",
      "           1       0.72      0.68      0.70       136\n",
      "\n",
      "    accuracy                           1.00     85443\n",
      "   macro avg       0.86      0.84      0.85     85443\n",
      "weighted avg       1.00      1.00      1.00     85443\n",
      "\n",
      "Test ROC AUC Score: 0.9837447826845462\n",
      "Test Confusion Matrix:\n",
      "[[85271    36]\n",
      " [   44    92]]\n"
     ]
    },
    {
     "data": {
      "image/png": "[encoded data removed]",
      "text/plain": [
       "<Figure size 640x480 with 2 Axes>"
      ]
     },
     "metadata": {},
     "output_type": "display_data"
    }
   ],
   "source": [
    "y_test_pred = best_estimator.predict(X_test)\n",
    "y_test_pred_proba = best_estimator.predict_proba(X_test)[:, 1]\n",
    "\n",
    "print(\"Test Classification Report:\")\n",
    "print(classification_report(y_test, y_test_pred))\n",
    "print(\"Test ROC AUC Score:\", roc_auc_score(y_test, y_test_pred_proba))\n",
    "print(\"Test Confusion Matrix:\")\n",
    "print(confusion_matrix(y_test, y_test_pred))\n",
    "sns.heatmap(confusion_matrix(y_test, y_test_pred), annot=True, fmt='d', cmap='Blues')\n",
    "plt.title('Test Confusion Matrix')\n",
    "plt.xlabel('Predicted')\n",
    "plt.ylabel('True')\n",
    "plt.show()"
   ]
  },
  {
   "cell_type": "markdown",
   "id": "4bc4377b",
   "metadata": {},
   "source": [
    "---\n",
    "\n",
    "## Undersampled dataset"
   ]
  },
  {
   "cell_type": "code",
   "execution_count": 8,
   "id": "ca1cf9f9",
   "metadata": {},
   "outputs": [],
   "source": [
    "# Training set\n",
    "X_train = pd.read_csv(datasets[\"undersampled\"][\"X_train\"])\n",
    "y_train = pd.read_csv(datasets[\"undersampled\"][\"y_train\"])\n",
    "\n",
    "# Test set\n",
    "X_test = pd.read_csv(datasets[\"undersampled\"][\"X_test\"])\n",
    "y_test = pd.read_csv(datasets[\"undersampled\"][\"y_test\"])\n",
    "\n",
    "# Original test set\n",
    "X_test_ori = pd.read_csv(datasets[\"original\"][\"X_test\"])\n",
    "y_test_ori = pd.read_csv(datasets[\"original\"][\"y_test\"])"
   ]
  },
  {
   "cell_type": "markdown",
   "id": "ab561665",
   "metadata": {},
   "source": [
    "### Hyperparam tuning with GridSearchCV"
   ]
  },
  {
   "cell_type": "code",
   "execution_count": 9,
   "id": "dc774c5c",
   "metadata": {},
   "outputs": [
    {
     "name": "stdout",
     "output_type": "stream",
     "text": [
      "Performing grid search for undersampled dataset...\n",
      "Fitting 5 folds for each of 6 candidates, totalling 30 fits\n",
      "Best parameters: {'C': 0.1, 'penalty': 'l2', 'solver': 'lbfgs'}\n",
      "Best score: 0.9828598786710652\n",
      "Best estimator: LogisticRegression(C=0.1, max_iter=1000, random_state=42)\n"
     ]
    },
    {
     "name": "stderr",
     "output_type": "stream",
     "text": [
      "c:\\Users\\hugop\\IA\\ESIEE-IT\\M1\\PIVS\\PIVS\\venv\\Lib\\site-packages\\sklearn\\utils\\validation.py:1408: DataConversionWarning: A column-vector y was passed when a 1d array was expected. Please change the shape of y to (n_samples, ), for example using ravel().\n",
      "  y = column_or_1d(y, warn=True)\n"
     ]
    }
   ],
   "source": [
    "if os.path.exists('grid_search_lr_undersampled.pkl'):\n",
    "    print(\"Loading existing grid search results...\")\n",
    "    grid = joblib.load('grid_search_lr_undersampled.pkl')\n",
    "\n",
    "else:\n",
    "    print(\"Performing grid search for undersampled dataset...\")\n",
    "    param_grid = {\n",
    "        'C': [0.1, 1, 10],\n",
    "        'penalty': ['l2'],\n",
    "        'solver': ['lbfgs', 'liblinear']\n",
    "    }\n",
    "\n",
    "    cv = StratifiedKFold(n_splits=5, shuffle=True, random_state=42)\n",
    "\n",
    "    lr = LogisticRegression(max_iter=1000, random_state=42)\n",
    "    grid = GridSearchCV(estimator=lr, param_grid=param_grid, cv=cv, scoring='roc_auc', n_jobs=-1, verbose=1)\n",
    "    grid.fit(X_train, y_train)\n",
    "\n",
    "    joblib.dump(grid, 'grid_search_lr_undersampled.pkl')\n",
    "\n",
    "best_params = grid.best_params_\n",
    "best_score = grid.best_score_\n",
    "best_estimator = grid.best_estimator_\n",
    "print(f\"Best parameters: {best_params}\")\n",
    "print(f\"Best score: {best_score}\")\n",
    "print(f\"Best estimator: {best_estimator}\")"
   ]
  },
  {
   "cell_type": "markdown",
   "id": "1cc2ba55",
   "metadata": {},
   "source": [
    "### Evaluation on undersampled test set"
   ]
  },
  {
   "cell_type": "code",
   "execution_count": 10,
   "id": "d1520898",
   "metadata": {},
   "outputs": [
    {
     "name": "stdout",
     "output_type": "stream",
     "text": [
      "Test Classification Report:\n",
      "              precision    recall  f1-score   support\n",
      "\n",
      "           0       0.91      0.99      0.95       150\n",
      "           1       0.99      0.90      0.94       146\n",
      "\n",
      "    accuracy                           0.95       296\n",
      "   macro avg       0.95      0.95      0.95       296\n",
      "weighted avg       0.95      0.95      0.95       296\n",
      "\n",
      "Test ROC AUC Score: 0.9799543378995432\n",
      "Test Confusion Matrix:\n",
      "[[148   2]\n",
      " [ 14 132]]\n"
     ]
    },
    {
     "data": {
      "image/png": "[encoded data removed]",
      "text/plain": [
       "<Figure size 640x480 with 2 Axes>"
      ]
     },
     "metadata": {},
     "output_type": "display_data"
    }
   ],
   "source": [
    "y_test_pred = best_estimator.predict(X_test)\n",
    "y_test_pred_proba = best_estimator.predict_proba(X_test)[:, 1]\n",
    "\n",
    "print(\"Test Classification Report:\")\n",
    "print(classification_report(y_test, y_test_pred))\n",
    "print(\"Test ROC AUC Score:\", roc_auc_score(y_test, y_test_pred_proba))\n",
    "print(\"Test Confusion Matrix:\")\n",
    "print(confusion_matrix(y_test, y_test_pred))\n",
    "sns.heatmap(confusion_matrix(y_test, y_test_pred), annot=True, fmt='d', cmap='Blues')\n",
    "plt.title('Test Confusion Matrix')\n",
    "plt.xlabel('Predicted')\n",
    "plt.ylabel('True')\n",
    "plt.show()"
   ]
  },
  {
   "cell_type": "markdown",
   "id": "9e0ad0b0",
   "metadata": {},
   "source": [
    "### Evaluation on original test set"
   ]
  },
  {
   "cell_type": "code",
   "execution_count": 11,
   "id": "8a831fb1",
   "metadata": {},
   "outputs": [
    {
     "name": "stdout",
     "output_type": "stream",
     "text": [
      "Test Classification Report:\n",
      "              precision    recall  f1-score   support\n",
      "\n",
      "           0       1.00      0.97      0.98     85307\n",
      "           1       0.05      0.93      0.09       136\n",
      "\n",
      "    accuracy                           0.97     85443\n",
      "   macro avg       0.52      0.95      0.54     85443\n",
      "weighted avg       1.00      0.97      0.98     85443\n",
      "\n",
      "Test ROC AUC Score: 0.9908480201955705\n",
      "Test Confusion Matrix:\n",
      "[[82707  2600]\n",
      " [    9   127]]\n"
     ]
    },
    {
     "data": {
      "image/png": "[encoded data removed]",
      "text/plain": [
       "<Figure size 640x480 with 2 Axes>"
      ]
     },
     "metadata": {},
     "output_type": "display_data"
    }
   ],
   "source": [
    "y_test_pred = best_estimator.predict(X_test_ori)\n",
    "y_test_pred_proba = best_estimator.predict_proba(X_test_ori)[:, 1]\n",
    "\n",
    "print(\"Test Classification Report:\")\n",
    "print(classification_report(y_test_ori, y_test_pred))\n",
    "print(\"Test ROC AUC Score:\", roc_auc_score(y_test_ori, y_test_pred_proba))\n",
    "print(\"Test Confusion Matrix:\")\n",
    "print(confusion_matrix(y_test_ori, y_test_pred))\n",
    "sns.heatmap(confusion_matrix(y_test_ori, y_test_pred), annot=True, fmt='d', cmap='Blues')\n",
    "plt.title('Test Confusion Matrix')\n",
    "plt.xlabel('Predicted')\n",
    "plt.ylabel('True')\n",
    "plt.show()"
   ]
  },
  {
   "cell_type": "markdown",
   "id": "1f5a0f75",
   "metadata": {},
   "source": [
    "---\n",
    "\n",
    "## Oversampled dataset"
   ]
  },
  {
   "cell_type": "code",
   "execution_count": 12,
   "id": "75e0e773",
   "metadata": {},
   "outputs": [],
   "source": [
    "# Training set\n",
    "X_train = pd.read_csv(datasets[\"oversampled\"][\"X_train\"])\n",
    "y_train = pd.read_csv(datasets[\"oversampled\"][\"y_train\"])\n",
    "\n",
    "# Test set\n",
    "X_test = pd.read_csv(datasets[\"oversampled\"][\"X_test\"])\n",
    "y_test = pd.read_csv(datasets[\"oversampled\"][\"y_test\"])"
   ]
  },
  {
   "cell_type": "markdown",
   "id": "953f42c1",
   "metadata": {},
   "source": [
    "### Scaling"
   ]
  },
  {
   "cell_type": "code",
   "execution_count": 13,
   "id": "cc02291c",
   "metadata": {},
   "outputs": [],
   "source": [
    "scaler = StandardScaler()\n",
    "X_train = scaler.fit_transform(X_train)"
   ]
  },
  {
   "cell_type": "code",
   "execution_count": 14,
   "id": "349a4a9b",
   "metadata": {},
   "outputs": [
    {
     "data": {
      "text/plain": [
       "array([[-0.40252193, -1.78801326, -0.03953088, ..., -1.82911531,\n",
       "         0.31612824, -0.46003976],\n",
       "       [ 4.65847268,  1.43853484,  0.34440412, ...,  1.36234378,\n",
       "        -0.40930151,  0.14909356],\n",
       "       [-0.08866969,  0.23772864,  0.0537014 , ...,  1.77302346,\n",
       "        -0.16704315,  0.09651146],\n",
       "       ...,\n",
       "       [-0.40044289, -1.06346102,  0.61912474, ..., -0.38503739,\n",
       "        -0.0773115 , -0.0843506 ],\n",
       "       [ 0.0650186 ,  1.04677553,  0.76605044, ..., -0.36974985,\n",
       "        -0.12129076, -0.09511358],\n",
       "       [-0.40252193, -1.4217068 , -2.36863582, ...,  1.41343418,\n",
       "         2.39361909, -3.09314089]], shape=(398016, 30))"
      ]
     },
     "execution_count": 14,
     "metadata": {},
     "output_type": "execute_result"
    }
   ],
   "source": [
    "X_train"
   ]
  },
  {
   "cell_type": "markdown",
   "id": "912474b0",
   "metadata": {},
   "source": [
    "### Hyperparam tuning with GridSearchCV"
   ]
  },
  {
   "cell_type": "code",
   "execution_count": 15,
   "id": "ff3853d0",
   "metadata": {},
   "outputs": [
    {
     "name": "stdout",
     "output_type": "stream",
     "text": [
      "Performing grid search for oversampled dataset...\n",
      "Fitting 5 folds for each of 6 candidates, totalling 30 fits\n"
     ]
    },
    {
     "name": "stderr",
     "output_type": "stream",
     "text": [
      "c:\\Users\\hugop\\IA\\ESIEE-IT\\M1\\PIVS\\PIVS\\venv\\Lib\\site-packages\\sklearn\\utils\\validation.py:1408: DataConversionWarning: A column-vector y was passed when a 1d array was expected. Please change the shape of y to (n_samples, ), for example using ravel().\n",
      "  y = column_or_1d(y, warn=True)\n"
     ]
    },
    {
     "name": "stdout",
     "output_type": "stream",
     "text": [
      "Best parameters: {'C': 10, 'penalty': 'l2', 'solver': 'lbfgs'}\n",
      "Best score: 0.9897052998994779\n",
      "Best estimator: LogisticRegression(C=10, max_iter=1000, random_state=42)\n"
     ]
    }
   ],
   "source": [
    "if os.path.exists('grid_search_lr_oversampled.pkl'):\n",
    "    print(\"Loading existing grid search results...\")\n",
    "    grid = joblib.load('grid_search_lr_oversampled.pkl')\n",
    "\n",
    "else:\n",
    "    print(\"Performing grid search for oversampled dataset...\")\n",
    "    param_grid = {\n",
    "        'C': [0.1, 1, 10],\n",
    "        'penalty': ['l2'],\n",
    "        'solver': ['lbfgs', 'liblinear']\n",
    "    }\n",
    "\n",
    "    cv = StratifiedKFold(n_splits=5, shuffle=True, random_state=42)\n",
    "\n",
    "    lr = LogisticRegression(max_iter=1000, random_state=42)\n",
    "    grid = GridSearchCV(estimator=lr, param_grid=param_grid, cv=cv, scoring='roc_auc', n_jobs=-1, verbose=1)\n",
    "    grid.fit(X_train, y_train)\n",
    "\n",
    "    joblib.dump(grid, 'grid_search_lr_oversampled.pkl')\n",
    "\n",
    "best_params = grid.best_params_\n",
    "best_score = grid.best_score_\n",
    "best_estimator = grid.best_estimator_\n",
    "print(f\"Best parameters: {best_params}\")\n",
    "print(f\"Best score: {best_score}\")\n",
    "print(f\"Best estimator: {best_estimator}\")"
   ]
  },
  {
   "cell_type": "markdown",
   "id": "4f3765f5",
   "metadata": {},
   "source": [
    "### Evaluation on test set"
   ]
  },
  {
   "cell_type": "code",
   "execution_count": 16,
   "id": "86d38480",
   "metadata": {},
   "outputs": [
    {
     "name": "stdout",
     "output_type": "stream",
     "text": [
      "Test Classification Report:\n",
      "              precision    recall  f1-score   support\n",
      "\n",
      "           0       1.00      0.05      0.09     85307\n",
      "           1       0.00      1.00      0.00       136\n",
      "\n",
      "    accuracy                           0.05     85443\n",
      "   macro avg       0.50      0.52      0.05     85443\n",
      "weighted avg       1.00      0.05      0.09     85443\n",
      "\n",
      "Test ROC AUC Score: 0.9655689933727252\n",
      "Test Confusion Matrix:\n",
      "[[ 4090 81217]\n",
      " [    0   136]]\n"
     ]
    },
    {
     "name": "stderr",
     "output_type": "stream",
     "text": [
      "c:\\Users\\hugop\\IA\\ESIEE-IT\\M1\\PIVS\\PIVS\\venv\\Lib\\site-packages\\sklearn\\utils\\validation.py:2732: UserWarning: X has feature names, but LogisticRegression was fitted without feature names\n",
      "  warnings.warn(\n",
      "c:\\Users\\hugop\\IA\\ESIEE-IT\\M1\\PIVS\\PIVS\\venv\\Lib\\site-packages\\sklearn\\utils\\validation.py:2732: UserWarning: X has feature names, but LogisticRegression was fitted without feature names\n",
      "  warnings.warn(\n"
     ]
    },
    {
     "data": {
      "image/png": "[encoded data removed]",
      "text/plain": [
       "<Figure size 640x480 with 2 Axes>"
      ]
     },
     "metadata": {},
     "output_type": "display_data"
    }
   ],
   "source": [
    "y_test_pred = best_estimator.predict(X_test)\n",
    "y_test_pred_proba = best_estimator.predict_proba(X_test)[:, 1]\n",
    "\n",
    "print(\"Test Classification Report:\")\n",
    "print(classification_report(y_test, y_test_pred))\n",
    "print(\"Test ROC AUC Score:\", roc_auc_score(y_test, y_test_pred_proba))\n",
    "print(\"Test Confusion Matrix:\")\n",
    "print(confusion_matrix(y_test, y_test_pred))\n",
    "sns.heatmap(confusion_matrix(y_test, y_test_pred), annot=True, fmt='d', cmap='Blues')\n",
    "plt.title('Test Confusion Matrix')\n",
    "plt.xlabel('Predicted')\n",
    "plt.ylabel('True')\n",
    "plt.show()"
   ]
  },
  {
   "cell_type": "markdown",
   "id": "269aadc8",
   "metadata": {},
   "source": [
    "---\n",
    "\n",
    "## Logistic Regression - Results comparison"
   ]
  },
  {
   "cell_type": "markdown",
   "id": "98d439fe",
   "metadata": {},
   "source": [
    "| Dataset         | Best Parameters                                              | F1-Score (Class 1) | Recall (Class 1) | Precision (Class 1) | ROC AUC | Confusion Matrix                 | Observations                                                                                   |\n",
    "|-----------------|--------------------------------------------------------------|---------------------|------------------|----------------------|---------|----------------------------------|------------------------------------------------------------------------------------------------|\n",
    "| **Original**     | `c=0.1`, `penalty='l2'`, `solver='liblinear'` | 0.70                | 0.68             | 0.72                 | 0.984   | TN=85271, FP=36, FN=44, TP=92   | Offers a solid trade-off between precision and recall, with good overall balance.   |\n",
    "| **Undersampled** | `c=0.1`, `penalty='l2'`, `solver='lbfgs'` | 0.09                | 0.93             | 0.05                 | 0.991   | TN=82707, FP=2600, FN=9, TP=127       | Very high recall but extremely low precision, highlighting a large number of false positives.                |\n",
    "| **Oversampled**  | `c=10`, `penalty='l2'`, `solver='lbfgs'` | 0.00                | 1.00             | 0.00                 | 0.965   | TN=4090, FP=81217, FN=0, TP=136  | Despite perfect recall, the model fails completely on precision, leading to unusable results.         |\n"
   ]
  },
  {
   "cell_type": "markdown",
   "id": "7e4a9d3e",
   "metadata": {},
   "source": [
    "**Global observation:**\n",
    "\n",
    "While logistic regression handles the original dataset reasonably well, its performance collapses on resampled datasets due to severe precision loss, showing that it struggles to maintain meaningful decision boundaries under class balancing techniques."
   ]
  }
 ],
 "metadata": {
  "kernelspec": {
   "display_name": "venv",
   "language": "python",
   "name": "python3"
  },
  "language_info": {
   "codemirror_mode": {
    "name": "ipython",
    "version": 3
   },
   "file_extension": ".py",
   "mimetype": "text/x-python",
   "name": "python",
   "nbconvert_exporter": "python",
   "pygments_lexer": "ipython3",
   "version": "3.11.4"
  }
 },
 "nbformat": 4,
 "nbformat_minor": 5
}
