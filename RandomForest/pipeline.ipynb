{
 "cells": [
  {
   "cell_type": "markdown",
   "id": "ddd13d27",
   "metadata": {},
   "source": [
    "# Random Forest - Credit Card Fraud Detection"
   ]
  },
  {
   "cell_type": "markdown",
   "id": "ab262fa3",
   "metadata": {},
   "source": [
    "---\n",
    "\n",
    "## Dependencies"
   ]
  },
  {
   "cell_type": "code",
   "execution_count": 1,
   "id": "fa40d02a",
   "metadata": {},
   "outputs": [],
   "source": [
    "import pandas as pd\n",
    "from sklearn.model_selection import GridSearchCV, StratifiedKFold\n",
    "from sklearn.ensemble import RandomForestClassifier\n",
    "from sklearn.metrics import classification_report, roc_auc_score, confusion_matrix\n",
    "import matplotlib.pyplot as plt\n",
    "import seaborn as sns\n",
    "from sklearn.preprocessing import StandardScaler\n",
    "import os\n",
    "import joblib"
   ]
  },
  {
   "cell_type": "markdown",
   "id": "7f0b0b60",
   "metadata": {},
   "source": [
    "---\n",
    "\n",
    "## Datasets preparation"
   ]
  },
  {
   "cell_type": "code",
   "execution_count": null,
   "id": "7da13379",
   "metadata": {},
   "outputs": [],
   "source": [
    "path = '../DataSet/'\n",
    "\n",
    "datasets = {\n",
    "    \"original\": {\n",
    "        \"X_train\": path + 'original-dataset/train/X.csv', \"y_train\": path + 'original-dataset/train/y.csv',\n",
    "        \"X_test\": path + 'original-dataset/test/X.csv', \"y_test\": path + 'original-dataset/test/y.csv'\n",
    "    },\n",
    "    \"undersampled\": {\n",
    "        \"X_train\": path + 'undersampled-dataset/train/X.csv', \"y_train\": path + 'undersampled-dataset/train/y.csv',\n",
    "        \"X_test\": path + 'undersampled-dataset/test/X.csv', \"y_test\": path + 'undersampled-dataset/test/y.csv'\n",
    "    },\n",
    "    \"oversampled\": {\n",
    "        \"X_train\": path + 'oversampled-dataset/train/X.csv', \"y_train\": path + 'oversampled-dataset/train/y.csv',\n",
    "        \"X_test\": path + 'oversampled-dataset/test/X.csv', \"y_test\": path + 'oversampled-dataset/test/y.csv'\n",
    "    }\n",
    "}"
   ]
  },
  {
   "cell_type": "markdown",
   "id": "114b9595",
   "metadata": {},
   "source": [
    "---\n",
    "\n",
    "## Original dataset"
   ]
  },
  {
   "cell_type": "code",
   "execution_count": 3,
   "id": "82ae5576",
   "metadata": {},
   "outputs": [],
   "source": [
    "# Training set\n",
    "X_train = pd.read_csv(datasets[\"original\"][\"X_train\"])\n",
    "y_train = pd.read_csv(datasets[\"original\"][\"y_train\"])\n",
    "\n",
    "# Test set\n",
    "X_test = pd.read_csv(datasets[\"original\"][\"X_test\"])\n",
    "y_test = pd.read_csv(datasets[\"original\"][\"y_test\"])"
   ]
  },
  {
   "cell_type": "markdown",
   "id": "540dbba5",
   "metadata": {},
   "source": [
    "### Scaling"
   ]
  },
  {
   "cell_type": "code",
   "execution_count": 4,
   "id": "e6b92286",
   "metadata": {},
   "outputs": [],
   "source": [
    "scaler = StandardScaler()\n",
    "X_train = scaler.fit_transform(X_train)"
   ]
  },
  {
   "cell_type": "code",
   "execution_count": 5,
   "id": "e7f699fc",
   "metadata": {},
   "outputs": [
    {
     "data": {
      "text/plain": [
       "array([[-0.33974783, -1.95144063, -1.16681856, ..., -1.6211327 ,\n",
       "         0.96676   , -0.4486209 ],\n",
       "       [ 4.27773998,  1.24181171, -0.15922175, ...,  1.34827683,\n",
       "        -0.71311931,  0.33519183],\n",
       "       [-0.0533992 ,  0.05339701, -0.92214029, ...,  1.73038298,\n",
       "        -0.15212107,  0.26753092],\n",
       "       ...,\n",
       "       [-0.32837128, -0.31497174, -0.07400401, ..., -0.8272693 ,\n",
       "        -0.29672056, -0.59571272],\n",
       "       [-0.33974783, -0.14359433, -1.50291696, ...,  0.88219506,\n",
       "         1.2243654 ,  1.01984233],\n",
       "       [ 0.09364469, -0.38688453,  0.62962541, ..., -0.81609192,\n",
       "         0.0044092 ,  0.11724428]], shape=(199364, 30))"
      ]
     },
     "execution_count": 5,
     "metadata": {},
     "output_type": "execute_result"
    }
   ],
   "source": [
    "X_train"
   ]
  },
  {
   "cell_type": "markdown",
   "id": "0a580d57",
   "metadata": {},
   "source": [
    "### Hyperparam tuning with GridSearchCV"
   ]
  },
  {
   "cell_type": "code",
   "execution_count": 6,
   "id": "14605c13",
   "metadata": {},
   "outputs": [
    {
     "name": "stdout",
     "output_type": "stream",
     "text": [
      "Loading existing grid search results...\n",
      "Best parameters: {'max_depth': 10, 'max_features': 'log2', 'n_estimators': 300}\n",
      "Best score: 0.9750547677285624\n",
      "Best estimator: RandomForestClassifier(max_depth=10, max_features='log2', n_estimators=300,\n",
      "                       random_state=42)\n"
     ]
    }
   ],
   "source": [
    "if os.path.exists('grid_search_rf_original.pkl'):\n",
    "    print(\"Loading existing grid search results...\")\n",
    "    grid = joblib.load('grid_search_rf_original.pkl')\n",
    "\n",
    "else:\n",
    "    print(\"Performing grid search for Random Forest on original dataset...\")\n",
    "    param_grid = {\n",
    "        'n_estimators': [100, 200, 300],\n",
    "        'max_depth': [10, 20, 30],\n",
    "        'max_features': ['sqrt', 'log2']\n",
    "    }\n",
    "\n",
    "    cv = StratifiedKFold(n_splits=5, shuffle=True, random_state=42)\n",
    "\n",
    "    rf = RandomForestClassifier(random_state=42)\n",
    "    grid = GridSearchCV(estimator=rf, param_grid=param_grid, scoring='roc_auc', cv=cv, verbose=1, n_jobs=-1)\n",
    "    grid.fit(X_train, y_train)\n",
    "\n",
    "    joblib.dump(grid, 'grid_search_rf_original.pkl')\n",
    "\n",
    "best_params = grid.best_params_\n",
    "best_score = grid.best_score_\n",
    "best_estimator = grid.best_estimator_\n",
    "print(f\"Best parameters: {best_params}\")\n",
    "print(f\"Best score: {best_score}\")\n",
    "print(f\"Best estimator: {best_estimator}\")"
   ]
  },
  {
   "cell_type": "markdown",
   "id": "4b6b27ae",
   "metadata": {},
   "source": [
    "### Evaluation on test set"
   ]
  },
  {
   "cell_type": "code",
   "execution_count": 7,
   "id": "2d4a7136",
   "metadata": {},
   "outputs": [
    {
     "name": "stderr",
     "output_type": "stream",
     "text": [
      "c:\\Users\\hugop\\IA\\ESIEE-IT\\M1\\PIVS\\PIVS\\venv\\Lib\\site-packages\\sklearn\\utils\\validation.py:2732: UserWarning: X has feature names, but RandomForestClassifier was fitted without feature names\n",
      "  warnings.warn(\n",
      "c:\\Users\\hugop\\IA\\ESIEE-IT\\M1\\PIVS\\PIVS\\venv\\Lib\\site-packages\\sklearn\\utils\\validation.py:2732: UserWarning: X has feature names, but RandomForestClassifier was fitted without feature names\n",
      "  warnings.warn(\n"
     ]
    },
    {
     "name": "stdout",
     "output_type": "stream",
     "text": [
      "Test Classification Report:\n",
      "              precision    recall  f1-score   support\n",
      "\n",
      "           0       1.00      1.00      1.00     85307\n",
      "           1       0.86      0.77      0.81       136\n",
      "\n",
      "    accuracy                           1.00     85443\n",
      "   macro avg       0.93      0.89      0.91     85443\n",
      "weighted avg       1.00      1.00      1.00     85443\n",
      "\n",
      "Test ROC AUC Score: 0.9721106346696602\n",
      "Test Confusion Matrix:\n",
      "[[85290    17]\n",
      " [   31   105]]\n"
     ]
    },
    {
     "data": {
      "image/png": "[encoded data removed]",
      "text/plain": [
       "<Figure size 640x480 with 2 Axes>"
      ]
     },
     "metadata": {},
     "output_type": "display_data"
    }
   ],
   "source": [
    "y_test_pred = best_estimator.predict(X_test)\n",
    "y_test_pred_proba = best_estimator.predict_proba(X_test)[:, 1]\n",
    "\n",
    "print(\"Test Classification Report:\")\n",
    "print(classification_report(y_test, y_test_pred))\n",
    "print(\"Test ROC AUC Score:\", roc_auc_score(y_test, y_test_pred_proba))\n",
    "print(\"Test Confusion Matrix:\")\n",
    "print(confusion_matrix(y_test, y_test_pred))\n",
    "sns.heatmap(confusion_matrix(y_test, y_test_pred), annot=True, fmt='d', cmap='Blues')\n",
    "plt.title('Test Confusion Matrix')\n",
    "plt.xlabel('Predicted')\n",
    "plt.ylabel('True')\n",
    "plt.show()"
   ]
  },
  {
   "cell_type": "markdown",
   "id": "601340fe",
   "metadata": {},
   "source": [
    "---\n",
    "\n",
    "## Undersampled dataset"
   ]
  },
  {
   "cell_type": "code",
   "execution_count": 8,
   "id": "99830979",
   "metadata": {},
   "outputs": [],
   "source": [
    "# Training set\n",
    "X_train = pd.read_csv(datasets[\"undersampled\"][\"X_train\"])\n",
    "y_train = pd.read_csv(datasets[\"undersampled\"][\"y_train\"])\n",
    "\n",
    "# Test set\n",
    "X_test = pd.read_csv(datasets[\"undersampled\"][\"X_test\"])\n",
    "y_test = pd.read_csv(datasets[\"undersampled\"][\"y_test\"])\n",
    "\n",
    "# Original test set\n",
    "X_test_ori = pd.read_csv(datasets[\"original\"][\"X_test\"])\n",
    "y_test_ori = pd.read_csv(datasets[\"original\"][\"y_test\"])"
   ]
  },
  {
   "cell_type": "markdown",
   "id": "b6b372a3",
   "metadata": {},
   "source": [
    "### Hyperparam tuning with GridSearchCV"
   ]
  },
  {
   "cell_type": "code",
   "execution_count": 9,
   "id": "7a2bf9e5",
   "metadata": {},
   "outputs": [
    {
     "name": "stdout",
     "output_type": "stream",
     "text": [
      "Loading existing grid search results...\n",
      "Best parameters: {'max_depth': 10, 'max_features': 'log2', 'n_estimators': 200}\n",
      "Best score: 0.9828060625636519\n",
      "Best estimator: RandomForestClassifier(max_depth=10, max_features='log2', n_estimators=200,\n",
      "                       random_state=42)\n"
     ]
    }
   ],
   "source": [
    "if os.path.exists('grid_search_rf_undersampled.pkl'):\n",
    "    print(\"Loading existing grid search results...\")\n",
    "    grid = joblib.load('grid_search_rf_undersampled.pkl')\n",
    "\n",
    "else:\n",
    "    print(\"Performing grid search for undersampled dataset...\")\n",
    "    param_grid = {\n",
    "        'n_estimators': [100, 200, 300],\n",
    "        'max_depth': [10, 20, 30],\n",
    "        'max_features': ['sqrt', 'log2']\n",
    "    }\n",
    "\n",
    "    cv = StratifiedKFold(n_splits=5, shuffle=True, random_state=42)\n",
    "\n",
    "    rf = RandomForestClassifier(random_state=42)\n",
    "    grid = GridSearchCV(estimator=rf, param_grid=param_grid, scoring='roc_auc', cv=cv, verbose=1, n_jobs=-1)\n",
    "    grid.fit(X_train, y_train)\n",
    "\n",
    "    joblib.dump(grid, 'grid_search_rf_undersampled.pkl')\n",
    "\n",
    "best_params = grid.best_params_\n",
    "best_score = grid.best_score_\n",
    "best_estimator = grid.best_estimator_\n",
    "print(f\"Best parameters: {best_params}\")\n",
    "print(f\"Best score: {best_score}\")\n",
    "print(f\"Best estimator: {best_estimator}\")"
   ]
  },
  {
   "cell_type": "markdown",
   "id": "40af9679",
   "metadata": {},
   "source": [
    "### Evaluation on undersampled test set"
   ]
  },
  {
   "cell_type": "code",
   "execution_count": 10,
   "id": "15d43d7b",
   "metadata": {},
   "outputs": [
    {
     "name": "stdout",
     "output_type": "stream",
     "text": [
      "Test Classification Report:\n",
      "              precision    recall  f1-score   support\n",
      "\n",
      "           0       0.93      0.99      0.95       150\n",
      "           1       0.99      0.92      0.95       146\n",
      "\n",
      "    accuracy                           0.95       296\n",
      "   macro avg       0.96      0.95      0.95       296\n",
      "weighted avg       0.95      0.95      0.95       296\n",
      "\n",
      "Test ROC AUC Score: 0.9846575342465753\n",
      "Test Confusion Matrix:\n",
      "[[148   2]\n",
      " [ 12 134]]\n"
     ]
    },
    {
     "data": {
      "image/png": "[encoded data removed]",
      "text/plain": [
       "<Figure size 640x480 with 2 Axes>"
      ]
     },
     "metadata": {},
     "output_type": "display_data"
    }
   ],
   "source": [
    "y_test_pred = best_estimator.predict(X_test)\n",
    "y_test_pred_proba = best_estimator.predict_proba(X_test)[:, 1]\n",
    "\n",
    "print(\"Test Classification Report:\")\n",
    "print(classification_report(y_test, y_test_pred))\n",
    "print(\"Test ROC AUC Score:\", roc_auc_score(y_test, y_test_pred_proba))\n",
    "print(\"Test Confusion Matrix:\")\n",
    "print(confusion_matrix(y_test, y_test_pred))\n",
    "sns.heatmap(confusion_matrix(y_test, y_test_pred), annot=True, fmt='d', cmap='Blues')\n",
    "plt.title('Test Confusion Matrix')\n",
    "plt.xlabel('Predicted')\n",
    "plt.ylabel('True')\n",
    "plt.show()"
   ]
  },
  {
   "cell_type": "markdown",
   "id": "2433e3d1",
   "metadata": {},
   "source": [
    "### Evaluation on original test set"
   ]
  },
  {
   "cell_type": "code",
   "execution_count": 11,
   "id": "f59e0f42",
   "metadata": {},
   "outputs": [
    {
     "name": "stdout",
     "output_type": "stream",
     "text": [
      "Test Classification Report:\n",
      "              precision    recall  f1-score   support\n",
      "\n",
      "           0       1.00      0.97      0.99     85307\n",
      "           1       0.05      0.97      0.10       136\n",
      "\n",
      "    accuracy                           0.97     85443\n",
      "   macro avg       0.53      0.97      0.54     85443\n",
      "weighted avg       1.00      0.97      0.98     85443\n",
      "\n",
      "Test ROC AUC Score: 0.994588662126203\n",
      "Test Confusion Matrix:\n",
      "[[82865  2442]\n",
      " [    4   132]]\n"
     ]
    },
    {
     "data": {
      "image/png": "[encoded data removed]",
      "text/plain": [
       "<Figure size 640x480 with 2 Axes>"
      ]
     },
     "metadata": {},
     "output_type": "display_data"
    }
   ],
   "source": [
    "y_test_pred = best_estimator.predict(X_test_ori)\n",
    "y_test_pred_proba = best_estimator.predict_proba(X_test_ori)[:, 1]\n",
    "\n",
    "print(\"Test Classification Report:\")\n",
    "print(classification_report(y_test_ori, y_test_pred))\n",
    "print(\"Test ROC AUC Score:\", roc_auc_score(y_test_ori, y_test_pred_proba))\n",
    "print(\"Test Confusion Matrix:\")\n",
    "print(confusion_matrix(y_test_ori, y_test_pred))\n",
    "sns.heatmap(confusion_matrix(y_test_ori, y_test_pred), annot=True, fmt='d', cmap='Blues')\n",
    "plt.title('Test Confusion Matrix')\n",
    "plt.xlabel('Predicted')\n",
    "plt.ylabel('True')\n",
    "plt.show()"
   ]
  },
  {
   "cell_type": "markdown",
   "id": "0eecadf8",
   "metadata": {},
   "source": [
    "---\n",
    "\n",
    "## Oversampled dataset"
   ]
  },
  {
   "cell_type": "code",
   "execution_count": 12,
   "id": "ff673181",
   "metadata": {},
   "outputs": [],
   "source": [
    "# Training set\n",
    "X_train = pd.read_csv(datasets[\"oversampled\"][\"X_train\"])\n",
    "y_train = pd.read_csv(datasets[\"oversampled\"][\"y_train\"])\n",
    "\n",
    "# Test set\n",
    "X_test = pd.read_csv(datasets[\"oversampled\"][\"X_test\"])\n",
    "y_test = pd.read_csv(datasets[\"oversampled\"][\"y_test\"])"
   ]
  },
  {
   "cell_type": "markdown",
   "id": "5185e48d",
   "metadata": {},
   "source": [
    "### Scaling"
   ]
  },
  {
   "cell_type": "code",
   "execution_count": 13,
   "id": "f0d7fc3d",
   "metadata": {},
   "outputs": [],
   "source": [
    "scaler = StandardScaler()\n",
    "X_train = scaler.fit_transform(X_train)"
   ]
  },
  {
   "cell_type": "code",
   "execution_count": 14,
   "id": "f27e33de",
   "metadata": {},
   "outputs": [
    {
     "data": {
      "text/plain": [
       "array([[-0.40252193, -1.78801326, -0.03953088, ..., -1.82911531,\n",
       "         0.31612824, -0.46003976],\n",
       "       [ 4.65847268,  1.43853484,  0.34440412, ...,  1.36234378,\n",
       "        -0.40930151,  0.14909356],\n",
       "       [-0.08866969,  0.23772864,  0.0537014 , ...,  1.77302346,\n",
       "        -0.16704315,  0.09651146],\n",
       "       ...,\n",
       "       [-0.40044289, -1.06346102,  0.61912474, ..., -0.38503739,\n",
       "        -0.0773115 , -0.0843506 ],\n",
       "       [ 0.0650186 ,  1.04677553,  0.76605044, ..., -0.36974985,\n",
       "        -0.12129076, -0.09511358],\n",
       "       [-0.40252193, -1.4217068 , -2.36863582, ...,  1.41343418,\n",
       "         2.39361909, -3.09314089]], shape=(398016, 30))"
      ]
     },
     "execution_count": 14,
     "metadata": {},
     "output_type": "execute_result"
    }
   ],
   "source": [
    "X_train"
   ]
  },
  {
   "cell_type": "markdown",
   "id": "bd01cf2e",
   "metadata": {},
   "source": [
    "### Hyperparam tuning with GridSearchCV"
   ]
  },
  {
   "cell_type": "code",
   "execution_count": 15,
   "id": "abfc82a9",
   "metadata": {},
   "outputs": [
    {
     "name": "stdout",
     "output_type": "stream",
     "text": [
      "Loading existing grid search results...\n",
      "Best parameters: {'max_depth': 30, 'max_features': 'sqrt', 'n_estimators': 300}\n",
      "Best score: 0.9999985368272843\n",
      "Best estimator: RandomForestClassifier(max_depth=30, n_estimators=300, random_state=42)\n"
     ]
    }
   ],
   "source": [
    "if os.path.exists('grid_search_rf_oversampled.pkl'):\n",
    "    print(\"Loading existing grid search results...\")\n",
    "    grid = joblib.load('grid_search_rf_oversampled.pkl')\n",
    "\n",
    "else:\n",
    "    print(\"Performing grid search for oversampled dataset...\")\n",
    "    param_grid = {\n",
    "        'n_estimators': [100, 200, 300],\n",
    "        'max_depth': [10, 20, 30],\n",
    "        'max_features': ['sqrt', 'log2']\n",
    "    }\n",
    "\n",
    "    cv = StratifiedKFold(n_splits=5, shuffle=True, random_state=42)\n",
    "\n",
    "    rf = RandomForestClassifier(random_state=42)\n",
    "    grid = GridSearchCV(estimator=rf, param_grid=param_grid, scoring='roc_auc', cv=cv, verbose=1, n_jobs=-1)\n",
    "    grid.fit(X_train, y_train)\n",
    "\n",
    "    joblib.dump(grid, 'grid_search_rf_oversampled.pkl')\n",
    "\n",
    "best_params = grid.best_params_\n",
    "best_score = grid.best_score_\n",
    "best_estimator = grid.best_estimator_\n",
    "print(f\"Best parameters: {best_params}\")\n",
    "print(f\"Best score: {best_score}\")\n",
    "print(f\"Best estimator: {best_estimator}\")"
   ]
  },
  {
   "cell_type": "markdown",
   "id": "0bdb90ae",
   "metadata": {},
   "source": [
    "### Evaluation on test set"
   ]
  },
  {
   "cell_type": "code",
   "execution_count": 16,
   "id": "d1659037",
   "metadata": {},
   "outputs": [
    {
     "name": "stderr",
     "output_type": "stream",
     "text": [
      "c:\\Users\\hugop\\IA\\ESIEE-IT\\M1\\PIVS\\PIVS\\venv\\Lib\\site-packages\\sklearn\\utils\\validation.py:2732: UserWarning: X has feature names, but RandomForestClassifier was fitted without feature names\n",
      "  warnings.warn(\n",
      "c:\\Users\\hugop\\IA\\ESIEE-IT\\M1\\PIVS\\PIVS\\venv\\Lib\\site-packages\\sklearn\\utils\\validation.py:2732: UserWarning: X has feature names, but RandomForestClassifier was fitted without feature names\n",
      "  warnings.warn(\n"
     ]
    },
    {
     "name": "stdout",
     "output_type": "stream",
     "text": [
      "Test Classification Report:\n",
      "              precision    recall  f1-score   support\n",
      "\n",
      "           0       1.00      0.97      0.99     85307\n",
      "           1       0.03      0.55      0.06       136\n",
      "\n",
      "    accuracy                           0.97     85443\n",
      "   macro avg       0.52      0.76      0.52     85443\n",
      "weighted avg       1.00      0.97      0.98     85443\n",
      "\n",
      "Test ROC AUC Score: 0.8341724163729753\n",
      "Test Confusion Matrix:\n",
      "[[82959  2348]\n",
      " [   61    75]]\n"
     ]
    },
    {
     "data": {
      "image/png": "[encoded data removed]",
      "text/plain": [
       "<Figure size 640x480 with 2 Axes>"
      ]
     },
     "metadata": {},
     "output_type": "display_data"
    }
   ],
   "source": [
    "y_test_pred = best_estimator.predict(X_test)\n",
    "y_test_pred_proba = best_estimator.predict_proba(X_test)[:, 1]\n",
    "\n",
    "print(\"Test Classification Report:\")\n",
    "print(classification_report(y_test, y_test_pred))\n",
    "print(\"Test ROC AUC Score:\", roc_auc_score(y_test, y_test_pred_proba))\n",
    "print(\"Test Confusion Matrix:\")\n",
    "print(confusion_matrix(y_test, y_test_pred))\n",
    "sns.heatmap(confusion_matrix(y_test, y_test_pred), annot=True, fmt='d', cmap='Blues')\n",
    "plt.title('Test Confusion Matrix')\n",
    "plt.xlabel('Predicted')\n",
    "plt.ylabel('True')\n",
    "plt.show()"
   ]
  },
  {
   "cell_type": "markdown",
   "id": "96dd76f0",
   "metadata": {},
   "source": [
    "---\n",
    "\n",
    "## Random Forest - Results comparison"
   ]
  },
  {
   "cell_type": "markdown",
   "id": "05c720f8",
   "metadata": {},
   "source": [
    "| Dataset         | Best Parameters                                              | F1-Score (Class 1) | Recall (Class 1) | Precision (Class 1) | ROC AUC | Confusion Matrix                 | Observations                                                                                   |\n",
    "|-----------------|--------------------------------------------------------------|---------------------|------------------|----------------------|---------|----------------------------------|------------------------------------------------------------------------------------------------|\n",
    "| **Original**     | `max_depth=10`, `max_features='log2'`, `n_estimators=300` | 0.81                | 0.77             | 0.86                 | 0.972   | TN=85290, FP=17, FN=31, TP=105   | Delivers strong performance with a good balance between recall and precision.   |\n",
    "| **Undersampled** | `max_depth=10`, `max_features='log2'`, `n_estimators=200` | 0.10                | 0.97             | 0.05                 | 0.994   | TN=82865, FP=2442, FN=4, TP=132       | Achieves high recall but suffers from extremely poor precision, leading to inflated false positives.                |\n",
    "| **Oversampled**  | `max_depth=30`, `max_features='sqrt'`, `n_estimators=300` | 0.06                | 0.55             | 0.03                 | 0.834   | TN=82959, FP=2348, FN=61, TP=75  | Both precision and recall are weak, indicating instability in handling synthetic class balance.         |\n"
   ]
  },
  {
   "cell_type": "markdown",
   "id": "f8d4dcac",
   "metadata": {},
   "source": [
    "**Global observation:**\n",
    "\n",
    "Random Forest performs well on the original data, showing reliable classification. However, it reacts poorly to resampling, especially oversampling, where performance deteriorates significantly, suggesting sensitivity to class distribution shifts."
   ]
  }
 ],
 "metadata": {
  "kernelspec": {
   "display_name": "venv",
   "language": "python",
   "name": "python3"
  },
  "language_info": {
   "codemirror_mode": {
    "name": "ipython",
    "version": 3
   },
   "file_extension": ".py",
   "mimetype": "text/x-python",
   "name": "python",
   "nbconvert_exporter": "python",
   "pygments_lexer": "ipython3",
   "version": "3.11.4"
  }
 },
 "nbformat": 4,
 "nbformat_minor": 5
}
