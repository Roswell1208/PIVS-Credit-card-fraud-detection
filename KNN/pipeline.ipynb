{
 "cells": [
  {
   "cell_type": "markdown",
   "id": "643fd85f",
   "metadata": {},
   "source": [
    "# KNN - Credit Card Fraud Detection"
   ]
  },
  {
   "cell_type": "markdown",
   "id": "64de1baf",
   "metadata": {},
   "source": [
    "---\n",
    "\n",
    "## Dependencies"
   ]
  },
  {
   "cell_type": "code",
   "execution_count": 1,
   "id": "de604762",
   "metadata": {},
   "outputs": [],
   "source": [
    "import pandas as pd\n",
    "import numpy as np\n",
    "from sklearn.preprocessing import StandardScaler\n",
    "from sklearn.model_selection import GridSearchCV, StratifiedKFold\n",
    "from sklearn.neighbors import KNeighborsClassifier\n",
    "from sklearn.metrics import classification_report, roc_auc_score, confusion_matrix\n",
    "import matplotlib.pyplot as plt\n",
    "import seaborn as sns\n",
    "import os\n",
    "import joblib"
   ]
  },
  {
   "cell_type": "markdown",
   "id": "a80c2ed2",
   "metadata": {},
   "source": [
    "---\n",
    "\n",
    "## Datasets preparation"
   ]
  },
  {
   "cell_type": "code",
   "execution_count": 2,
   "id": "836c6e55",
   "metadata": {},
   "outputs": [],
   "source": [
    "path = '../DataSet/'\n",
    "\n",
    "datasets = {\n",
    "    \"original\": {\n",
    "        \"X_train\": path + 'original-dataset/train/X.csv', \"y_train\": path + 'original-dataset/train/y.csv',\n",
    "        \"X_test\": path + 'original-dataset/test/X.csv', \"y_test\": path + 'original-dataset/test/y.csv'\n",
    "    },\n",
    "    \"undersampled\": {\n",
    "        \"X_train\": path + 'undersampled-dataset/train/X.csv', \"y_train\": path + 'undersampled-dataset/train/y.csv',\n",
    "        \"X_test\": path + 'undersampled-dataset/test/X.csv', \"y_test\": path + 'undersampled-dataset/test/y.csv'\n",
    "    },\n",
    "    \"oversampled\": {\n",
    "        \"X_train\": path + 'oversampled-dataset/train/X.csv', \"y_train\": path + 'oversampled-dataset/train/y.csv',\n",
    "        \"X_test\": path + 'oversampled-dataset/test/X.csv', \"y_test\": path + 'oversampled-dataset/test/y.csv'\n",
    "    }\n",
    "}"
   ]
  },
  {
   "cell_type": "markdown",
   "id": "8ec494fc",
   "metadata": {},
   "source": [
    "---\n",
    "\n",
    "## Original dataset"
   ]
  },
  {
   "cell_type": "code",
   "execution_count": 3,
   "id": "bc157e40",
   "metadata": {},
   "outputs": [],
   "source": [
    "# Training set\n",
    "X_train = pd.read_csv(datasets[\"original\"][\"X_train\"])\n",
    "y_train = pd.read_csv(datasets[\"original\"][\"y_train\"])\n",
    "\n",
    "# Test set\n",
    "X_test = pd.read_csv(datasets[\"original\"][\"X_test\"])\n",
    "y_test = pd.read_csv(datasets[\"original\"][\"y_test\"])"
   ]
  },
  {
   "cell_type": "markdown",
   "id": "d3aad5ee",
   "metadata": {},
   "source": [
    "### Scaling"
   ]
  },
  {
   "cell_type": "code",
   "execution_count": 4,
   "id": "8b61cc76",
   "metadata": {},
   "outputs": [],
   "source": [
    "scaler = StandardScaler()\n",
    "X_train = scaler.fit_transform(X_train)"
   ]
  },
  {
   "cell_type": "code",
   "execution_count": 5,
   "id": "c1bf1f84",
   "metadata": {},
   "outputs": [
    {
     "data": {
      "text/plain": [
       "array([[-0.33974783, -1.95144063, -1.16681856, ..., -1.6211327 ,\n",
       "         0.96676   , -0.4486209 ],\n",
       "       [ 4.27773998,  1.24181171, -0.15922175, ...,  1.34827683,\n",
       "        -0.71311931,  0.33519183],\n",
       "       [-0.0533992 ,  0.05339701, -0.92214029, ...,  1.73038298,\n",
       "        -0.15212107,  0.26753092],\n",
       "       ...,\n",
       "       [-0.32837128, -0.31497174, -0.07400401, ..., -0.8272693 ,\n",
       "        -0.29672056, -0.59571272],\n",
       "       [-0.33974783, -0.14359433, -1.50291696, ...,  0.88219506,\n",
       "         1.2243654 ,  1.01984233],\n",
       "       [ 0.09364469, -0.38688453,  0.62962541, ..., -0.81609192,\n",
       "         0.0044092 ,  0.11724428]], shape=(199364, 30))"
      ]
     },
     "execution_count": 5,
     "metadata": {},
     "output_type": "execute_result"
    }
   ],
   "source": [
    "X_train"
   ]
  },
  {
   "cell_type": "markdown",
   "id": "d38ec367",
   "metadata": {},
   "source": [
    "### Hyperparam tuning with GridSearchCV"
   ]
  },
  {
   "cell_type": "code",
   "execution_count": 6,
   "id": "77ab38d5",
   "metadata": {},
   "outputs": [
    {
     "name": "stdout",
     "output_type": "stream",
     "text": [
      "Loading existing grid search results...\n",
      "Best parameters: {'metric': 'euclidean', 'n_neighbors': 3, 'weights': 'distance'}\n",
      "Best score: 0.8422045130442077\n",
      "Best estimator: KNeighborsClassifier(metric='euclidean', n_neighbors=3, weights='distance')\n"
     ]
    }
   ],
   "source": [
    "if os.path.exists('grid_search_knn_original.pkl'):\n",
    "    print(\"Loading existing grid search results...\")\n",
    "    grid = joblib.load('grid_search_knn_original.pkl')\n",
    "\n",
    "else:\n",
    "    print(\"Performing grid search for KNN on original dataset...\")\n",
    "    param_grid = {\n",
    "        'n_neighbors': [3, 5, 7],\n",
    "        'weights': ['distance'],\n",
    "        'metric': ['euclidean', 'manhattan']\n",
    "    }\n",
    "\n",
    "    cv = StratifiedKFold(n_splits=5, shuffle=True, random_state=42)\n",
    "\n",
    "    knn = KNeighborsClassifier()\n",
    "    grid = GridSearchCV(knn, param_grid, cv=cv, scoring='f1', n_jobs=-1)\n",
    "    grid.fit(X_train, y_train)\n",
    "\n",
    "    joblib.dump(grid, 'grid_search_knn_original.pkl')\n",
    "\n",
    "best_params = grid.best_params_\n",
    "best_score = grid.best_score_\n",
    "best_estimator = grid.best_estimator_\n",
    "print(f\"Best parameters: {best_params}\")\n",
    "print(f\"Best score: {best_score}\")\n",
    "print(f\"Best estimator: {best_estimator}\")"
   ]
  },
  {
   "cell_type": "markdown",
   "id": "78ada4c5",
   "metadata": {},
   "source": [
    "### Evaluation on test set"
   ]
  },
  {
   "cell_type": "code",
   "execution_count": 7,
   "id": "53c3df75",
   "metadata": {},
   "outputs": [
    {
     "name": "stderr",
     "output_type": "stream",
     "text": [
      "c:\\Users\\hugop\\IA\\ESIEE-IT\\M1\\PIVS\\PIVS-Credit-card-fraud-detection\\venv\\Lib\\site-packages\\sklearn\\utils\\validation.py:2732: UserWarning: X has feature names, but KNeighborsClassifier was fitted without feature names\n",
      "  warnings.warn(\n",
      "c:\\Users\\hugop\\IA\\ESIEE-IT\\M1\\PIVS\\PIVS-Credit-card-fraud-detection\\venv\\Lib\\site-packages\\sklearn\\utils\\validation.py:2732: UserWarning: X has feature names, but KNeighborsClassifier was fitted without feature names\n",
      "  warnings.warn(\n"
     ]
    },
    {
     "name": "stdout",
     "output_type": "stream",
     "text": [
      "Test Classification Report:\n",
      "              precision    recall  f1-score   support\n",
      "\n",
      "           0       1.00      1.00      1.00     85307\n",
      "           1       0.88      0.73      0.80       136\n",
      "\n",
      "    accuracy                           1.00     85443\n",
      "   macro avg       0.94      0.86      0.90     85443\n",
      "weighted avg       1.00      1.00      1.00     85443\n",
      "\n",
      "Test ROC AUC Score: 0.9042846287353841\n",
      "Test Confusion Matrix:\n",
      "[[85294    13]\n",
      " [   37    99]]\n"
     ]
    },
    {
     "data": {
      "image/png": "[encoded data removed]",
      "text/plain": [
       "<Figure size 640x480 with 2 Axes>"
      ]
     },
     "metadata": {},
     "output_type": "display_data"
    }
   ],
   "source": [
    "y_test_pred = best_estimator.predict(X_test)\n",
    "y_test_pred_proba = best_estimator.predict_proba(X_test)[:, 1]\n",
    "\n",
    "print(\"Test Classification Report:\")\n",
    "print(classification_report(y_test, y_test_pred))\n",
    "print(\"Test ROC AUC Score:\", roc_auc_score(y_test, y_test_pred_proba))\n",
    "print(\"Test Confusion Matrix:\")\n",
    "print(confusion_matrix(y_test, y_test_pred))\n",
    "sns.heatmap(confusion_matrix(y_test, y_test_pred), annot=True, fmt='d', cmap='Blues')\n",
    "plt.title('Test Confusion Matrix')\n",
    "plt.xlabel('Predicted')\n",
    "plt.ylabel('True')\n",
    "plt.show()"
   ]
  },
  {
   "cell_type": "markdown",
   "id": "3155a545",
   "metadata": {},
   "source": [
    "---\n",
    "\n",
    "## Undersampled dataset"
   ]
  },
  {
   "cell_type": "code",
   "execution_count": 8,
   "id": "08e1f0f2",
   "metadata": {},
   "outputs": [],
   "source": [
    "# Training set\n",
    "X_train = pd.read_csv(datasets[\"undersampled\"][\"X_train\"])\n",
    "y_train = pd.read_csv(datasets[\"undersampled\"][\"y_train\"])\n",
    "\n",
    "# Test set\n",
    "X_test = pd.read_csv(datasets[\"undersampled\"][\"X_test\"])\n",
    "y_test = pd.read_csv(datasets[\"undersampled\"][\"y_test\"])\n",
    "\n",
    "# Original test set\n",
    "X_test_ori = pd.read_csv(datasets[\"original\"][\"X_test\"])\n",
    "y_test_ori = pd.read_csv(datasets[\"original\"][\"y_test\"])"
   ]
  },
  {
   "cell_type": "markdown",
   "id": "62497d32",
   "metadata": {},
   "source": [
    "### Hyperparam tuning with GridSearchCV"
   ]
  },
  {
   "cell_type": "code",
   "execution_count": 9,
   "id": "43afe075",
   "metadata": {},
   "outputs": [
    {
     "name": "stdout",
     "output_type": "stream",
     "text": [
      "Loading existing grid search results for undersampled dataset...\n",
      "Best parameters: {'metric': 'manhattan', 'n_neighbors': 3, 'weights': 'distance'}\n",
      "Best score: 0.9376818013296122\n",
      "Best estimator: KNeighborsClassifier(metric='manhattan', n_neighbors=3, weights='distance')\n"
     ]
    }
   ],
   "source": [
    "if os.path.exists('grid_search_knn_undersampled.pkl'):\n",
    "    print(\"Loading existing grid search results for undersampled dataset...\")\n",
    "    grid = joblib.load('grid_search_knn_undersampled.pkl')\n",
    "\n",
    "else:\n",
    "    print(\"Performing grid search for undersampled dataset...\")\n",
    "    param_grid = {\n",
    "        'n_neighbors': [3, 5, 7],\n",
    "        'weights': ['distance'],\n",
    "        'metric': ['euclidean', 'manhattan']\n",
    "    }\n",
    "\n",
    "    cv = StratifiedKFold(n_splits=5, shuffle=True, random_state=42)\n",
    "\n",
    "    knn = KNeighborsClassifier()\n",
    "    grid = GridSearchCV(knn, param_grid, cv=cv, scoring='f1', n_jobs=-1)\n",
    "    grid.fit(X_train, y_train)\n",
    "\n",
    "    joblib.dump(grid, 'grid_search_knn_undersampled.pkl')\n",
    "\n",
    "best_params = grid.best_params_\n",
    "best_score = grid.best_score_\n",
    "best_estimator = grid.best_estimator_\n",
    "print(f\"Best parameters: {best_params}\")\n",
    "print(f\"Best score: {best_score}\")\n",
    "print(f\"Best estimator: {best_estimator}\")"
   ]
  },
  {
   "cell_type": "markdown",
   "id": "d634a3a1",
   "metadata": {},
   "source": [
    "### Evaluation on undersampled test set"
   ]
  },
  {
   "cell_type": "code",
   "execution_count": 10,
   "id": "89e12492",
   "metadata": {},
   "outputs": [
    {
     "name": "stdout",
     "output_type": "stream",
     "text": [
      "Test Classification Report:\n",
      "              precision    recall  f1-score   support\n",
      "\n",
      "           0       0.91      0.95      0.93       150\n",
      "           1       0.95      0.90      0.93       146\n",
      "\n",
      "    accuracy                           0.93       296\n",
      "   macro avg       0.93      0.93      0.93       296\n",
      "weighted avg       0.93      0.93      0.93       296\n",
      "\n",
      "Test ROC AUC Score: 0.9703196347031963\n",
      "Test Confusion Matrix:\n",
      "[[143   7]\n",
      " [ 14 132]]\n"
     ]
    },
    {
     "data": {
      "image/png": "[encoded data removed]",
      "text/plain": [
       "<Figure size 640x480 with 2 Axes>"
      ]
     },
     "metadata": {},
     "output_type": "display_data"
    }
   ],
   "source": [
    "y_test_pred = best_estimator.predict(X_test)\n",
    "y_test_pred_proba = best_estimator.predict_proba(X_test)[:, 1]\n",
    "\n",
    "print(\"Test Classification Report:\")\n",
    "print(classification_report(y_test, y_test_pred))\n",
    "print(\"Test ROC AUC Score:\", roc_auc_score(y_test, y_test_pred_proba))\n",
    "print(\"Test Confusion Matrix:\")\n",
    "print(confusion_matrix(y_test, y_test_pred))\n",
    "sns.heatmap(confusion_matrix(y_test, y_test_pred), annot=True, fmt='d', cmap='Blues')\n",
    "plt.title('Test Confusion Matrix')\n",
    "plt.xlabel('Predicted')\n",
    "plt.ylabel('True')\n",
    "plt.show()"
   ]
  },
  {
   "cell_type": "markdown",
   "id": "b587d452",
   "metadata": {},
   "source": [
    "### Evaluation on original test set"
   ]
  },
  {
   "cell_type": "code",
   "execution_count": 11,
   "id": "696398f9",
   "metadata": {},
   "outputs": [
    {
     "name": "stdout",
     "output_type": "stream",
     "text": [
      "Test Classification Report:\n",
      "              precision    recall  f1-score   support\n",
      "\n",
      "           0       1.00      0.97      0.98     85307\n",
      "           1       0.05      0.98      0.09       136\n",
      "\n",
      "    accuracy                           0.97     85443\n",
      "   macro avg       0.52      0.97      0.54     85443\n",
      "weighted avg       1.00      0.97      0.98     85443\n",
      "\n",
      "Test ROC AUC Score: 0.9879251857822854\n",
      "Test Confusion Matrix:\n",
      "[[82595  2712]\n",
      " [    3   133]]\n"
     ]
    },
    {
     "data": {
      "image/png": "[encoded data removed]",
      "text/plain": [
       "<Figure size 640x480 with 2 Axes>"
      ]
     },
     "metadata": {},
     "output_type": "display_data"
    }
   ],
   "source": [
    "y_test_pred = best_estimator.predict(X_test_ori)\n",
    "y_test_pred_proba = best_estimator.predict_proba(X_test_ori)[:, 1]\n",
    "\n",
    "print(\"Test Classification Report:\")\n",
    "print(classification_report(y_test_ori, y_test_pred))\n",
    "print(\"Test ROC AUC Score:\", roc_auc_score(y_test_ori, y_test_pred_proba))\n",
    "print(\"Test Confusion Matrix:\")\n",
    "print(confusion_matrix(y_test_ori, y_test_pred))\n",
    "sns.heatmap(confusion_matrix(y_test_ori, y_test_pred), annot=True, fmt='d', cmap='Blues')\n",
    "plt.title('Test Confusion Matrix')\n",
    "plt.xlabel('Predicted')\n",
    "plt.ylabel('True')\n",
    "plt.show()"
   ]
  },
  {
   "cell_type": "markdown",
   "id": "274c94d2",
   "metadata": {},
   "source": [
    "---\n",
    "\n",
    "## Oversampled dataset"
   ]
  },
  {
   "cell_type": "code",
   "execution_count": 12,
   "id": "1abeb3f5",
   "metadata": {},
   "outputs": [],
   "source": [
    "# Training set\n",
    "X_train = pd.read_csv(datasets[\"oversampled\"][\"X_train\"])\n",
    "y_train = pd.read_csv(datasets[\"oversampled\"][\"y_train\"])\n",
    "\n",
    "# Test set\n",
    "X_test = pd.read_csv(datasets[\"oversampled\"][\"X_test\"])\n",
    "y_test = pd.read_csv(datasets[\"oversampled\"][\"y_test\"])"
   ]
  },
  {
   "cell_type": "markdown",
   "id": "7f27402c",
   "metadata": {},
   "source": [
    "### Scaling"
   ]
  },
  {
   "cell_type": "code",
   "execution_count": 13,
   "id": "3950fad5",
   "metadata": {},
   "outputs": [],
   "source": [
    "scaler = StandardScaler()\n",
    "X_train = scaler.fit_transform(X_train)"
   ]
  },
  {
   "cell_type": "code",
   "execution_count": 14,
   "id": "ffd14dc7",
   "metadata": {},
   "outputs": [
    {
     "data": {
      "text/plain": [
       "array([[-0.40252193, -1.78801326, -0.03953088, ..., -1.82911531,\n",
       "         0.31612824, -0.46003976],\n",
       "       [ 4.65847268,  1.43853484,  0.34440412, ...,  1.36234378,\n",
       "        -0.40930151,  0.14909356],\n",
       "       [-0.08866969,  0.23772864,  0.0537014 , ...,  1.77302346,\n",
       "        -0.16704315,  0.09651146],\n",
       "       ...,\n",
       "       [-0.40044289, -1.06346102,  0.61912474, ..., -0.38503739,\n",
       "        -0.0773115 , -0.0843506 ],\n",
       "       [ 0.0650186 ,  1.04677553,  0.76605044, ..., -0.36974985,\n",
       "        -0.12129076, -0.09511358],\n",
       "       [-0.40252193, -1.4217068 , -2.36863582, ...,  1.41343418,\n",
       "         2.39361909, -3.09314089]], shape=(398016, 30))"
      ]
     },
     "execution_count": 14,
     "metadata": {},
     "output_type": "execute_result"
    }
   ],
   "source": [
    "X_train"
   ]
  },
  {
   "cell_type": "markdown",
   "id": "c0a7058a",
   "metadata": {},
   "source": [
    "### Hyperparam tuning with GridSearchCV"
   ]
  },
  {
   "cell_type": "code",
   "execution_count": 15,
   "id": "3a01fac8",
   "metadata": {},
   "outputs": [
    {
     "name": "stdout",
     "output_type": "stream",
     "text": [
      "Loading existing grid search results for oversampled dataset...\n",
      "Best parameters: {'metric': 'manhattan', 'n_neighbors': 3, 'weights': 'distance'}\n",
      "Best score: 0.9992292727649282\n",
      "Best estimator: KNeighborsClassifier(metric='manhattan', n_neighbors=3, weights='distance')\n"
     ]
    }
   ],
   "source": [
    "if os.path.exists('grid_search_knn_oversampled.pkl'):\n",
    "    print(\"Loading existing grid search results for oversampled dataset...\")\n",
    "    grid = joblib.load('grid_search_knn_oversampled.pkl')\n",
    "\n",
    "else:\n",
    "    print(\"Performing grid search for oversampled dataset...\")\n",
    "    param_grid = {\n",
    "        'n_neighbors': [3, 5, 7],\n",
    "        'weights': ['distance'],\n",
    "        'metric': ['euclidean', 'manhattan']\n",
    "    }\n",
    "\n",
    "    cv = StratifiedKFold(n_splits=5, shuffle=True, random_state=42)\n",
    "\n",
    "    knn = KNeighborsClassifier()\n",
    "    grid = GridSearchCV(knn, param_grid, cv=cv, scoring='f1', n_jobs=-1)\n",
    "    grid.fit(X_train, y_train)\n",
    "\n",
    "    joblib.dump(grid, 'grid_search_knn_oversampled.pkl')\n",
    "\n",
    "best_params = grid.best_params_\n",
    "best_score = grid.best_score_\n",
    "best_estimator = grid.best_estimator_\n",
    "print(f\"Best parameters: {best_params}\")\n",
    "print(f\"Best score: {best_score}\")\n",
    "print(f\"Best estimator: {best_estimator}\")"
   ]
  },
  {
   "cell_type": "markdown",
   "id": "ec47cbc6",
   "metadata": {},
   "source": [
    "### Evaluation on test set"
   ]
  },
  {
   "cell_type": "code",
   "execution_count": 16,
   "id": "ad732b63",
   "metadata": {},
   "outputs": [
    {
     "name": "stderr",
     "output_type": "stream",
     "text": [
      "c:\\Users\\hugop\\IA\\ESIEE-IT\\M1\\PIVS\\PIVS-Credit-card-fraud-detection\\venv\\Lib\\site-packages\\sklearn\\utils\\validation.py:2732: UserWarning: X has feature names, but KNeighborsClassifier was fitted without feature names\n",
      "  warnings.warn(\n",
      "c:\\Users\\hugop\\IA\\ESIEE-IT\\M1\\PIVS\\PIVS-Credit-card-fraud-detection\\venv\\Lib\\site-packages\\sklearn\\utils\\validation.py:2732: UserWarning: X has feature names, but KNeighborsClassifier was fitted without feature names\n",
      "  warnings.warn(\n"
     ]
    },
    {
     "name": "stdout",
     "output_type": "stream",
     "text": [
      "Test Classification Report:\n",
      "              precision    recall  f1-score   support\n",
      "\n",
      "           0       1.00      0.73      0.84     85307\n",
      "           1       0.01      0.93      0.01       136\n",
      "\n",
      "    accuracy                           0.73     85443\n",
      "   macro avg       0.50      0.83      0.43     85443\n",
      "weighted avg       1.00      0.73      0.84     85443\n",
      "\n",
      "Test ROC AUC Score: 0.8480292459276841\n",
      "Test Confusion Matrix:\n",
      "[[62103 23204]\n",
      " [    9   127]]\n"
     ]
    },
    {
     "data": {
      "image/png": "[encoded data removed]",
      "text/plain": [
       "<Figure size 640x480 with 2 Axes>"
      ]
     },
     "metadata": {},
     "output_type": "display_data"
    }
   ],
   "source": [
    "y_test_pred = best_estimator.predict(X_test)\n",
    "y_test_pred_proba = best_estimator.predict_proba(X_test)[:, 1]\n",
    "\n",
    "print(\"Test Classification Report:\")\n",
    "print(classification_report(y_test, y_test_pred))\n",
    "print(\"Test ROC AUC Score:\", roc_auc_score(y_test, y_test_pred_proba))\n",
    "print(\"Test Confusion Matrix:\")\n",
    "print(confusion_matrix(y_test, y_test_pred))\n",
    "sns.heatmap(confusion_matrix(y_test, y_test_pred), annot=True, fmt='d', cmap='Blues')\n",
    "plt.title('Test Confusion Matrix')\n",
    "plt.xlabel('Predicted')\n",
    "plt.ylabel('True')\n",
    "plt.show()"
   ]
  },
  {
   "cell_type": "markdown",
   "id": "43c4d7e3",
   "metadata": {},
   "source": [
    "---\n",
    "\n",
    "## KNN - Results comparison"
   ]
  },
  {
   "cell_type": "markdown",
   "id": "728949fd",
   "metadata": {},
   "source": [
    "| Dataset         | Best Parameters                                              | F1-Score (Class 1) | Recall (Class 1) | Precision (Class 1) | ROC AUC | Confusion Matrix                 | Observations                                                                                   |\n",
    "|-----------------|--------------------------------------------------------------|---------------------|------------------|----------------------|---------|----------------------------------|------------------------------------------------------------------------------------------------|\n",
    "| **Original**     | `metric='euclidian'`, `n_neighbors=3`, `weights='distance'` | 0.80                | 0.73             | 0.88                 | 0.904   | TN=85294, FP=13, FN=37, TP=99   | Performs decently with balanced F1-score and good precision, but recall is slightly limited.   |\n",
    "| **Undersampled** | `metric='manhattan'`, `n_neighbors=3`, `weights='distance'` | 0.09                | 0.98             | 0.05                 | 0.988   | TN=82595, FP=2712, FN=3, TP=133       | Achieves very high recall but at the cost of extremely low precision, indicating many false positives.                |\n",
    "| **Oversampled**  | `metric='manhattan'`, `n_neighbors=3`, `weights='distance'` | 0.01                | 0.93             | 0.01                 | 0.848   | TN=62103, FP=23204, FN=9, TP=127  | Extremely low precision and F1-score despite high recall; poor overall performance due to misclassification of negatives.         |\n"
   ]
  },
  {
   "cell_type": "markdown",
   "id": "44b031da",
   "metadata": {},
   "source": [
    "**Global observation:**\n",
    "\n",
    "KNN shows a strong tendency to favor recall when class imbalance is addressed, but suffers from drastic drops in precision and F1-score, particularly with oversampling, making it a risky choice for fraud detection where false positives are costly."
   ]
  }
 ],
 "metadata": {
  "kernelspec": {
   "display_name": "venv",
   "language": "python",
   "name": "python3"
  },
  "language_info": {
   "codemirror_mode": {
    "name": "ipython",
    "version": 3
   },
   "file_extension": ".py",
   "mimetype": "text/x-python",
   "name": "python",
   "nbconvert_exporter": "python",
   "pygments_lexer": "ipython3",
   "version": "3.11.4"
  }
 },
 "nbformat": 4,
 "nbformat_minor": 5
}
