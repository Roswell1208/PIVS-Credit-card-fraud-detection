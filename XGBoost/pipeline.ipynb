{
 "cells": [
  {
   "cell_type": "markdown",
   "id": "e36fe3df",
   "metadata": {},
   "source": [
    "# XGBoost - Credit Card Fraud Detection"
   ]
  },
  {
   "cell_type": "markdown",
   "id": "0f668497",
   "metadata": {},
   "source": [
    "---\n",
    "\n",
    "## Dependencies"
   ]
  },
  {
   "cell_type": "code",
   "execution_count": 1,
   "id": "b222f791",
   "metadata": {},
   "outputs": [],
   "source": [
    "import pandas as pd\n",
    "import numpy as np\n",
    "from sklearn.preprocessing import StandardScaler\n",
    "from sklearn.model_selection import GridSearchCV, StratifiedKFold\n",
    "from xgboost import XGBClassifier\n",
    "from sklearn.metrics import classification_report, roc_auc_score, confusion_matrix\n",
    "import matplotlib.pyplot as plt\n",
    "import seaborn as sns\n",
    "import os\n",
    "import joblib"
   ]
  },
  {
   "cell_type": "markdown",
   "id": "11044a04",
   "metadata": {},
   "source": [
    "---\n",
    "\n",
    "## Datasets preparation"
   ]
  },
  {
   "cell_type": "code",
   "execution_count": 2,
   "id": "a549f876",
   "metadata": {},
   "outputs": [],
   "source": [
    "path = '../DataSet/'\n",
    "\n",
    "datasets = {\n",
    "    \"original\": {\n",
    "        \"X_train\": path + 'original-dataset/train/X.csv', \"y_train\": path + 'original-dataset/train/y.csv',\n",
    "        \"X_test\": path + 'original-dataset/test/X.csv', \"y_test\": path + 'original-dataset/test/y.csv'\n",
    "    },\n",
    "    \"undersampled\": {\n",
    "        \"X_train\": path + 'undersampled-dataset/train/X.csv', \"y_train\": path + 'undersampled-dataset/train/y.csv',\n",
    "        \"X_test\": path + 'undersampled-dataset/test/X.csv', \"y_test\": path + 'undersampled-dataset/test/y.csv'\n",
    "    },\n",
    "    \"oversampled\": {\n",
    "        \"X_train\": path + 'oversampled-dataset/train/X.csv', \"y_train\": path + 'oversampled-dataset/train/y.csv',\n",
    "        \"X_test\": path + 'oversampled-dataset/test/X.csv', \"y_test\": path + 'oversampled-dataset/test/y.csv'\n",
    "    }\n",
    "}"
   ]
  },
  {
   "cell_type": "markdown",
   "id": "5d4d88bf",
   "metadata": {},
   "source": [
    "---\n",
    "\n",
    "## Original dataset"
   ]
  },
  {
   "cell_type": "code",
   "execution_count": 3,
   "id": "9f41321e",
   "metadata": {},
   "outputs": [],
   "source": [
    "# Training set\n",
    "X_train = pd.read_csv(datasets[\"original\"][\"X_train\"])\n",
    "y_train = pd.read_csv(datasets[\"original\"][\"y_train\"])\n",
    "\n",
    "# Test set\n",
    "X_test = pd.read_csv(datasets[\"original\"][\"X_test\"])\n",
    "y_test = pd.read_csv(datasets[\"original\"][\"y_test\"])"
   ]
  },
  {
   "cell_type": "markdown",
   "id": "05d99440",
   "metadata": {},
   "source": [
    "### Hyperparam tuning with GridSearchCV"
   ]
  },
  {
   "cell_type": "code",
   "execution_count": 4,
   "id": "b9251b01",
   "metadata": {},
   "outputs": [
    {
     "name": "stdout",
     "output_type": "stream",
     "text": [
      "Loading existing grid search results...\n",
      "Best parameters: {'colsample_bytree': 1.0, 'learning_rate': 0.1, 'max_depth': 3, 'n_estimators': 100, 'subsample': 0.8}\n",
      "Best score: 0.9807856094100755\n",
      "Best estimator: XGBClassifier(base_score=None, booster=None, callbacks=None,\n",
      "              colsample_bylevel=None, colsample_bynode=None,\n",
      "              colsample_bytree=1.0, device=None, early_stopping_rounds=None,\n",
      "              enable_categorical=False, eval_metric='logloss',\n",
      "              feature_types=None, gamma=None, grow_policy=None,\n",
      "              importance_type=None, interaction_constraints=None,\n",
      "              learning_rate=0.1, max_bin=None, max_cat_threshold=None,\n",
      "              max_cat_to_onehot=None, max_delta_step=None, max_depth=3,\n",
      "              max_leaves=None, min_child_weight=None, missing=nan,\n",
      "              monotone_constraints=None, multi_strategy=None, n_estimators=100,\n",
      "              n_jobs=None, num_parallel_tree=None, random_state=42, ...)\n"
     ]
    }
   ],
   "source": [
    "if os.path.exists('grid_search_xgb_original.pkl'):\n",
    "    print(\"Loading existing grid search results...\")\n",
    "    grid = joblib.load('grid_search_xgb_original.pkl')\n",
    "\n",
    "else:\n",
    "    print(\"Performing grid search for XGBoost on the original dataset...\")\n",
    "    param_grid = {\n",
    "        'n_estimators': [100, 200],\n",
    "        'max_depth': [3, 5, 7],\n",
    "        'learning_rate': [0.01, 0.1, 0.2],\n",
    "        'subsample': [0.8, 1.0],\n",
    "        'colsample_bytree': [0.8, 1.0]\n",
    "    }\n",
    "\n",
    "    cv = StratifiedKFold(n_splits=5, shuffle=True, random_state=42)\n",
    "\n",
    "    xgb = XGBClassifier(use_label_encoder=False, eval_metric='logloss', random_state=42)\n",
    "    grid = GridSearchCV(estimator=xgb, param_grid=param_grid, scoring='roc_auc', cv=cv, verbose=1, n_jobs=-1)\n",
    "    grid.fit(X_train, y_train)\n",
    "\n",
    "    joblib.dump(grid, 'grid_search_xgb_original.pkl')\n",
    "\n",
    "best_params = grid.best_params_\n",
    "best_score = grid.best_score_\n",
    "best_estimator = grid.best_estimator_\n",
    "print(f\"Best parameters: {best_params}\")\n",
    "print(f\"Best score: {best_score}\")\n",
    "print(f\"Best estimator: {best_estimator}\")"
   ]
  },
  {
   "cell_type": "markdown",
   "id": "25a676e6",
   "metadata": {},
   "source": [
    "### Evaluation on test set"
   ]
  },
  {
   "cell_type": "code",
   "execution_count": 5,
   "id": "145009d5",
   "metadata": {},
   "outputs": [
    {
     "name": "stdout",
     "output_type": "stream",
     "text": [
      "Test Classification Report:\n",
      "              precision    recall  f1-score   support\n",
      "\n",
      "           0       1.00      1.00      1.00     85307\n",
      "           1       0.93      0.82      0.87       136\n",
      "\n",
      "    accuracy                           1.00     85443\n",
      "   macro avg       0.96      0.91      0.93     85443\n",
      "weighted avg       1.00      1.00      1.00     85443\n",
      "\n",
      "Test ROC AUC Score: 0.9860305150463482\n",
      "Test Confusion Matrix:\n",
      "[[85298     9]\n",
      " [   25   111]]\n"
     ]
    },
    {
     "data": {
      "image/png": "[encoded data removed]",
      "text/plain": [
       "<Figure size 640x480 with 2 Axes>"
      ]
     },
     "metadata": {},
     "output_type": "display_data"
    }
   ],
   "source": [
    "y_test_pred = best_estimator.predict(X_test)\n",
    "y_test_pred_proba = best_estimator.predict_proba(X_test)[:, 1]\n",
    "\n",
    "print(\"Test Classification Report:\")\n",
    "print(classification_report(y_test, y_test_pred))\n",
    "print(\"Test ROC AUC Score:\", roc_auc_score(y_test, y_test_pred_proba))\n",
    "print(\"Test Confusion Matrix:\")\n",
    "print(confusion_matrix(y_test, y_test_pred))\n",
    "sns.heatmap(confusion_matrix(y_test, y_test_pred), annot=True, fmt='d', cmap='Blues')\n",
    "plt.title('Test Confusion Matrix')\n",
    "plt.xlabel('Predicted')\n",
    "plt.ylabel('True')\n",
    "plt.show()"
   ]
  },
  {
   "cell_type": "markdown",
   "id": "f0b4ebcb",
   "metadata": {},
   "source": [
    "---\n",
    "\n",
    "## Undersampled dataset"
   ]
  },
  {
   "cell_type": "code",
   "execution_count": 6,
   "id": "f1878418",
   "metadata": {},
   "outputs": [],
   "source": [
    "# Training set\n",
    "X_train = pd.read_csv(datasets[\"undersampled\"][\"X_train\"])\n",
    "y_train = pd.read_csv(datasets[\"undersampled\"][\"y_train\"])\n",
    "\n",
    "# Test set\n",
    "X_test = pd.read_csv(datasets[\"undersampled\"][\"X_test\"])\n",
    "y_test = pd.read_csv(datasets[\"undersampled\"][\"y_test\"])\n",
    "\n",
    "# Original test set\n",
    "X_test_ori = pd.read_csv(datasets[\"original\"][\"X_test\"])\n",
    "y_test_ori = pd.read_csv(datasets[\"original\"][\"y_test\"])"
   ]
  },
  {
   "cell_type": "markdown",
   "id": "1e03f690",
   "metadata": {},
   "source": [
    "### Hyperparam tuning with GridSearchCV"
   ]
  },
  {
   "cell_type": "code",
   "execution_count": 7,
   "id": "3cb3a5ce",
   "metadata": {},
   "outputs": [
    {
     "name": "stdout",
     "output_type": "stream",
     "text": [
      "Loading existing grid search results...\n",
      "Best parameters: {'colsample_bytree': 1.0, 'learning_rate': 0.2, 'max_depth': 3, 'n_estimators': 100, 'subsample': 0.8}\n",
      "Best score: 0.9873932194175717\n",
      "Best estimator: XGBClassifier(base_score=None, booster=None, callbacks=None,\n",
      "              colsample_bylevel=None, colsample_bynode=None,\n",
      "              colsample_bytree=1.0, device=None, early_stopping_rounds=None,\n",
      "              enable_categorical=False, eval_metric='logloss',\n",
      "              feature_types=None, gamma=None, grow_policy=None,\n",
      "              importance_type=None, interaction_constraints=None,\n",
      "              learning_rate=0.2, max_bin=None, max_cat_threshold=None,\n",
      "              max_cat_to_onehot=None, max_delta_step=None, max_depth=3,\n",
      "              max_leaves=None, min_child_weight=None, missing=nan,\n",
      "              monotone_constraints=None, multi_strategy=None, n_estimators=100,\n",
      "              n_jobs=None, num_parallel_tree=None, random_state=42, ...)\n"
     ]
    }
   ],
   "source": [
    "if os.path.exists('grid_search_xgb_undersampled.pkl'):\n",
    "    print(\"Loading existing grid search results...\")\n",
    "    grid = joblib.load('grid_search_xgb_undersampled.pkl')\n",
    "\n",
    "else:\n",
    "    print(\"Performing grid search for XGBoost on the undersampled dataset...\")\n",
    "    param_grid = {\n",
    "        'n_estimators': [100, 200],\n",
    "        'max_depth': [3, 5, 7],\n",
    "        'learning_rate': [0.01, 0.1, 0.2],\n",
    "        'subsample': [0.8, 1.0],\n",
    "        'colsample_bytree': [0.8, 1.0]\n",
    "    }\n",
    "\n",
    "    cv = StratifiedKFold(n_splits=5, shuffle=True, random_state=42)\n",
    "\n",
    "    xgb = XGBClassifier(use_label_encoder=False, eval_metric='logloss', random_state=42)\n",
    "    grid = GridSearchCV(estimator=xgb, param_grid=param_grid, scoring='roc_auc', cv=cv, verbose=1, n_jobs=-1)\n",
    "    grid.fit(X_train, y_train)\n",
    "\n",
    "    joblib.dump(grid, 'grid_search_xgb_undersampled.pkl')\n",
    "\n",
    "best_params = grid.best_params_\n",
    "best_score = grid.best_score_\n",
    "best_estimator = grid.best_estimator_\n",
    "print(f\"Best parameters: {best_params}\")\n",
    "print(f\"Best score: {best_score}\")\n",
    "print(f\"Best estimator: {best_estimator}\")"
   ]
  },
  {
   "cell_type": "markdown",
   "id": "892015ad",
   "metadata": {},
   "source": [
    "### Evaluation on undersampled test set"
   ]
  },
  {
   "cell_type": "code",
   "execution_count": 8,
   "id": "795b288e",
   "metadata": {},
   "outputs": [
    {
     "name": "stdout",
     "output_type": "stream",
     "text": [
      "Test Classification Report:\n",
      "              precision    recall  f1-score   support\n",
      "\n",
      "           0       0.92      0.98      0.95       150\n",
      "           1       0.98      0.92      0.95       146\n",
      "\n",
      "    accuracy                           0.95       296\n",
      "   macro avg       0.95      0.95      0.95       296\n",
      "weighted avg       0.95      0.95      0.95       296\n",
      "\n",
      "Test ROC AUC Score: 0.9829680365296803\n",
      "Test Confusion Matrix:\n",
      "[[147   3]\n",
      " [ 12 134]]\n"
     ]
    },
    {
     "data": {
      "image/png": "[encoded data removed]",
      "text/plain": [
       "<Figure size 640x480 with 2 Axes>"
      ]
     },
     "metadata": {},
     "output_type": "display_data"
    }
   ],
   "source": [
    "y_test_pred = best_estimator.predict(X_test)\n",
    "y_test_pred_proba = best_estimator.predict_proba(X_test)[:, 1]\n",
    "\n",
    "print(\"Test Classification Report:\")\n",
    "print(classification_report(y_test, y_test_pred))\n",
    "print(\"Test ROC AUC Score:\", roc_auc_score(y_test, y_test_pred_proba))\n",
    "print(\"Test Confusion Matrix:\")\n",
    "print(confusion_matrix(y_test, y_test_pred))\n",
    "sns.heatmap(confusion_matrix(y_test, y_test_pred), annot=True, fmt='d', cmap='Blues')\n",
    "plt.title('Test Confusion Matrix')\n",
    "plt.xlabel('Predicted')\n",
    "plt.ylabel('True')\n",
    "plt.show()"
   ]
  },
  {
   "cell_type": "markdown",
   "id": "f52b28cf",
   "metadata": {},
   "source": [
    "### Evaluation on original test set"
   ]
  },
  {
   "cell_type": "code",
   "execution_count": 9,
   "id": "2ea2159a",
   "metadata": {},
   "outputs": [
    {
     "name": "stdout",
     "output_type": "stream",
     "text": [
      "Test Classification Report:\n",
      "              precision    recall  f1-score   support\n",
      "\n",
      "           0       1.00      0.96      0.98     85307\n",
      "           1       0.04      0.98      0.07       136\n",
      "\n",
      "    accuracy                           0.96     85443\n",
      "   macro avg       0.52      0.97      0.52     85443\n",
      "weighted avg       1.00      0.96      0.98     85443\n",
      "\n",
      "Test ROC AUC Score: 0.9949937733542313\n",
      "Test Confusion Matrix:\n",
      "[[81771  3536]\n",
      " [    3   133]]\n"
     ]
    },
    {
     "data": {
      "image/png": "[encoded data removed]",
      "text/plain": [
       "<Figure size 640x480 with 2 Axes>"
      ]
     },
     "metadata": {},
     "output_type": "display_data"
    }
   ],
   "source": [
    "y_test_pred = best_estimator.predict(X_test_ori)\n",
    "y_test_pred_proba = best_estimator.predict_proba(X_test_ori)[:, 1]\n",
    "\n",
    "print(\"Test Classification Report:\")\n",
    "print(classification_report(y_test_ori, y_test_pred))\n",
    "print(\"Test ROC AUC Score:\", roc_auc_score(y_test_ori, y_test_pred_proba))\n",
    "print(\"Test Confusion Matrix:\")\n",
    "print(confusion_matrix(y_test_ori, y_test_pred))\n",
    "sns.heatmap(confusion_matrix(y_test_ori, y_test_pred), annot=True, fmt='d', cmap='Blues')\n",
    "plt.title('Test Confusion Matrix')\n",
    "plt.xlabel('Predicted')\n",
    "plt.ylabel('True')\n",
    "plt.show()"
   ]
  },
  {
   "cell_type": "markdown",
   "id": "9d3e48d1",
   "metadata": {},
   "source": [
    "---\n",
    "\n",
    "## Oversampled dataset"
   ]
  },
  {
   "cell_type": "code",
   "execution_count": 10,
   "id": "7159de93",
   "metadata": {},
   "outputs": [],
   "source": [
    "# Training set\n",
    "X_train = pd.read_csv(datasets[\"oversampled\"][\"X_train\"])\n",
    "y_train = pd.read_csv(datasets[\"oversampled\"][\"y_train\"])\n",
    "\n",
    "# Test set\n",
    "X_test = pd.read_csv(datasets[\"oversampled\"][\"X_test\"])\n",
    "y_test = pd.read_csv(datasets[\"oversampled\"][\"y_test\"])"
   ]
  },
  {
   "cell_type": "markdown",
   "id": "9b50a54d",
   "metadata": {},
   "source": [
    "### Hyperparam tuning with GridSearchCV"
   ]
  },
  {
   "cell_type": "code",
   "execution_count": 11,
   "id": "fbbd77b4",
   "metadata": {},
   "outputs": [
    {
     "name": "stdout",
     "output_type": "stream",
     "text": [
      "Loading existing grid search results...\n",
      "Best parameters: {'colsample_bytree': 0.8, 'learning_rate': 0.2, 'max_depth': 5, 'n_estimators': 200, 'subsample': 1.0}\n",
      "Best score: 0.9999915398117084\n",
      "Best estimator: XGBClassifier(base_score=None, booster=None, callbacks=None,\n",
      "              colsample_bylevel=None, colsample_bynode=None,\n",
      "              colsample_bytree=0.8, device=None, early_stopping_rounds=None,\n",
      "              enable_categorical=False, eval_metric='logloss',\n",
      "              feature_types=None, gamma=None, grow_policy=None,\n",
      "              importance_type=None, interaction_constraints=None,\n",
      "              learning_rate=0.2, max_bin=None, max_cat_threshold=None,\n",
      "              max_cat_to_onehot=None, max_delta_step=None, max_depth=5,\n",
      "              max_leaves=None, min_child_weight=None, missing=nan,\n",
      "              monotone_constraints=None, multi_strategy=None, n_estimators=200,\n",
      "              n_jobs=None, num_parallel_tree=None, random_state=42, ...)\n"
     ]
    }
   ],
   "source": [
    "if os.path.exists('grid_search_xgb_oversampled.pkl'):\n",
    "    print(\"Loading existing grid search results...\")\n",
    "    grid = joblib.load('grid_search_xgb_oversampled.pkl')\n",
    "\n",
    "else:\n",
    "    print(\"Performing grid search for XGBoost on the oversampled dataset...\")\n",
    "    param_grid = {\n",
    "        'n_estimators': [100, 200],\n",
    "        'max_depth': [3, 5, 7],\n",
    "        'learning_rate': [0.01, 0.1, 0.2],\n",
    "        'subsample': [0.8, 1.0],\n",
    "        'colsample_bytree': [0.8, 1.0]\n",
    "    }\n",
    "\n",
    "    cv = StratifiedKFold(n_splits=5, shuffle=True, random_state=42)\n",
    "\n",
    "    xgb = XGBClassifier(use_label_encoder=False, eval_metric='logloss', random_state=42)\n",
    "    grid = GridSearchCV(estimator=xgb, param_grid=param_grid, scoring='roc_auc', cv=cv, verbose=1, n_jobs=-1)\n",
    "    grid.fit(X_train, y_train)\n",
    "\n",
    "    joblib.dump(grid, 'grid_search_xgb_oversampled.pkl')\n",
    "\n",
    "best_params = grid.best_params_\n",
    "best_score = grid.best_score_\n",
    "best_estimator = grid.best_estimator_\n",
    "print(f\"Best parameters: {best_params}\")\n",
    "print(f\"Best score: {best_score}\")\n",
    "print(f\"Best estimator: {best_estimator}\")"
   ]
  },
  {
   "cell_type": "markdown",
   "id": "002728d7",
   "metadata": {},
   "source": [
    "### Evaluation on test set"
   ]
  },
  {
   "cell_type": "code",
   "execution_count": 12,
   "id": "f03d909a",
   "metadata": {},
   "outputs": [
    {
     "name": "stdout",
     "output_type": "stream",
     "text": [
      "Test Classification Report:\n",
      "              precision    recall  f1-score   support\n",
      "\n",
      "           0       1.00      1.00      1.00     85307\n",
      "           1       0.69      0.86      0.76       136\n",
      "\n",
      "    accuracy                           1.00     85443\n",
      "   macro avg       0.84      0.93      0.88     85443\n",
      "weighted avg       1.00      1.00      1.00     85443\n",
      "\n",
      "Test ROC AUC Score: 0.9890220890775807\n",
      "Test Confusion Matrix:\n",
      "[[85254    53]\n",
      " [   19   117]]\n"
     ]
    },
    {
     "data": {
      "image/png": "[encoded data removed]",
      "text/plain": [
       "<Figure size 640x480 with 2 Axes>"
      ]
     },
     "metadata": {},
     "output_type": "display_data"
    }
   ],
   "source": [
    "y_test_pred = best_estimator.predict(X_test)\n",
    "y_test_pred_proba = best_estimator.predict_proba(X_test)[:, 1]\n",
    "\n",
    "print(\"Test Classification Report:\")\n",
    "print(classification_report(y_test, y_test_pred))\n",
    "print(\"Test ROC AUC Score:\", roc_auc_score(y_test, y_test_pred_proba))\n",
    "print(\"Test Confusion Matrix:\")\n",
    "print(confusion_matrix(y_test, y_test_pred))\n",
    "sns.heatmap(confusion_matrix(y_test, y_test_pred), annot=True, fmt='d', cmap='Blues')\n",
    "plt.title('Test Confusion Matrix')\n",
    "plt.xlabel('Predicted')\n",
    "plt.ylabel('True')\n",
    "plt.show()"
   ]
  },
  {
   "cell_type": "markdown",
   "id": "ed523458",
   "metadata": {},
   "source": [
    "---\n",
    "\n",
    "## XGBoost - Results comparison"
   ]
  },
  {
   "cell_type": "markdown",
   "id": "382f4320",
   "metadata": {},
   "source": [
    "| Dataset         | Best Parameters                                                                 | F1-Score (Class 1) | Recall (Class 1) | Precision (Class 1) | ROC AUC | Confusion Matrix                 | Observations                                                                                  |\n",
    "|-----------------|----------------------------------------------------------------------------------|---------------------|------------------|----------------------|---------|----------------------------------|-----------------------------------------------------------------------------------------------|\n",
    "| **Original**     | `colsample_bytree=1.0`, `learning_rate=0.1`, `max_depth=3`, `n_estimators=200`, `subsample=1.0` | 0.83                | 0.77             | 0.91                 | 0.986   | TN=85296, FP=11, FN=31, TP=105   | Very strong performance. Great precision and excellent AUC. Slightly lower recall (77%).      |\n",
    "| **Undersampled** | `colsample_bytree=0.8`, `learning_rate=0.2`, `max_depth=5`, `n_estimators=100`, `subsample=0.8` | 0.95                | 0.92             | 0.98                 | 0.984   | TN=147, FP=3, FN=12, TP=134       | Balanced results. Very high F1-score and ROC AUC on a small, balanced dataset.                |\n",
    "| **Oversampled**  | `colsample_bytree=0.8`, `learning_rate=0.2`, `max_depth=7`, `n_estimators=200`, `subsample=0.8` | 0.82                | 0.88             | 0.78                 | 0.990   | TN=85273, FP=34, FN=17, TP=119   | High recall (88%) and AUC. Good F1-score but slightly lower precision than original set.   |\n"
   ]
  },
  {
   "cell_type": "markdown",
   "id": "4d018d3a",
   "metadata": {},
   "source": [
    "- **Original Dataset**: Delivers excellent overall performance with high precision (91%) and a strong ROC AUC (0.986). Slightly lower recall (77%) means some fraud cases are still missed, but the model is highly reliable on clean, imbalanced data.\n",
    "\n",
    "- **Undersampled Dataset**: Achieves the best F1-score (0.95) and a very balanced performance on both classes. Even on a small dataset, XGBoost maintains robustness and generalizes well—very few false positives and false negatives.\n",
    "\n",
    "- **Oversampled Dataset**: Has a high recall (88%) and the highest ROC AUC (0.990) of the three. Slight trade-off with lower precision (78%), meaning more legitimate transactions are flagged. A great choice if recall is a priority (e.g., catching as many frauds as possible is critical)."
   ]
  }
 ],
 "metadata": {
  "kernelspec": {
   "display_name": "venv",
   "language": "python",
   "name": "python3"
  },
  "language_info": {
   "codemirror_mode": {
    "name": "ipython",
    "version": 3
   },
   "file_extension": ".py",
   "mimetype": "text/x-python",
   "name": "python",
   "nbconvert_exporter": "python",
   "pygments_lexer": "ipython3",
   "version": "3.11.4"
  }
 },
 "nbformat": 4,
 "nbformat_minor": 5
}
